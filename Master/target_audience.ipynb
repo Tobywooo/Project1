{
 "cells": [
  {
   "cell_type": "code",
   "execution_count": 2,
   "id": "e93a331e-2d0b-41a3-a07b-f3e50ad8b547",
   "metadata": {},
   "outputs": [
    {
     "name": "stdout",
     "output_type": "stream",
     "text": [
      "Collecting matplotlib\n",
      "Note: you may need to restart the kernel to use updated packages.  Downloading matplotlib-3.7.3-cp38-cp38-win_amd64.whl (7.5 MB)\n",
      "\n",
      "Collecting kiwisolver>=1.0.1\n"
     ]
    },
    {
     "name": "stderr",
     "output_type": "stream",
     "text": [
      "  WARNING: The scripts fonttools.exe, pyftmerge.exe, pyftsubset.exe and ttx.exe are installed in 'C:\\Users\\tobia\\AppData\\Local\\Programs\\MUEDIT~1\\Python\\Scripts' which is not on PATH.\n",
      "  Consider adding this directory to PATH or, if you prefer to suppress this warning, use --no-warn-script-location.\n",
      "WARNING: You are using pip version 21.2.4; however, version 23.3.1 is available.\n",
      "You should consider upgrading via the 'C:\\Users\\tobia\\AppData\\Local\\Programs\\MUEDIT~1\\Python\\pythonw.exe -m pip install --upgrade pip' command.\n"
     ]
    },
    {
     "name": "stdout",
     "output_type": "stream",
     "text": [
      "  Downloading kiwisolver-1.4.5-cp38-cp38-win_amd64.whl (56 kB)\n",
      "Requirement already satisfied: pyparsing>=2.3.1 in c:\\users\\tobia\\appdata\\local\\programs\\mu editor\\python\\lib\\site-packages (from matplotlib) (3.0.9)\n",
      "Collecting importlib-resources>=3.2.0\n",
      "  Downloading importlib_resources-6.1.0-py3-none-any.whl (33 kB)\n",
      "Collecting contourpy>=1.0.1\n",
      "  Downloading contourpy-1.1.1-cp38-cp38-win_amd64.whl (477 kB)\n",
      "Collecting fonttools>=4.22.0\n",
      "  Downloading fonttools-4.43.1-cp38-cp38-win_amd64.whl (1.5 MB)\n",
      "Collecting pillow>=6.2.0\n",
      "  Downloading Pillow-10.1.0-cp38-cp38-win_amd64.whl (2.6 MB)\n",
      "Requirement already satisfied: packaging>=20.0 in c:\\users\\tobia\\appdata\\local\\programs\\mu editor\\python\\lib\\site-packages (from matplotlib) (21.3)\n",
      "Requirement already satisfied: python-dateutil>=2.7 in c:\\users\\tobia\\appdata\\local\\programs\\mu editor\\python\\lib\\site-packages (from matplotlib) (2.8.2)\n",
      "Collecting cycler>=0.10\n",
      "  Using cached cycler-0.12.1-py3-none-any.whl (8.3 kB)\n",
      "Requirement already satisfied: numpy<2,>=1.20 in c:\\users\\tobia\\appdata\\local\\programs\\mu editor\\python\\lib\\site-packages (from matplotlib) (1.24.4)\n",
      "Collecting zipp>=3.1.0\n",
      "  Downloading zipp-3.17.0-py3-none-any.whl (7.4 kB)\n",
      "Requirement already satisfied: six>=1.5 in c:\\users\\tobia\\appdata\\local\\programs\\mu editor\\python\\lib\\site-packages (from python-dateutil>=2.7->matplotlib) (1.16.0)\n",
      "Installing collected packages: zipp, pillow, kiwisolver, importlib-resources, fonttools, cycler, contourpy, matplotlib\n",
      "Successfully installed contourpy-1.1.1 cycler-0.12.1 fonttools-4.43.1 importlib-resources-6.1.0 kiwisolver-1.4.5 matplotlib-3.7.3 pillow-10.1.0 zipp-3.17.0\n"
     ]
    }
   ],
   "source": [
    "pip install matplotlib"
   ]
  },
  {
   "cell_type": "code",
   "execution_count": 5,
   "id": "1c48c77d-5def-4acb-bc67-05f6fd30dac5",
   "metadata": {},
   "outputs": [
    {
     "name": "stdout",
     "output_type": "stream",
     "text": [
      "Collecting scipyNote: you may need to restart the kernel to use updated packages.\n",
      "  Downloading scipy-1.10.1-cp38-cp38-win_amd64.whl (42.2 MB)\n",
      "Requirement already satisfied: numpy<1.27.0,>=1.19.5 in c:\\users\\tobia\\appdata\\local\\programs\\mu editor\\python\\lib\\site-packages (from scipy) (1.24.4)\n"
     ]
    },
    {
     "name": "stderr",
     "output_type": "stream",
     "text": [
      "WARNING: You are using pip version 21.2.4; however, version 23.3.1 is available.\n",
      "You should consider upgrading via the 'C:\\Users\\tobia\\AppData\\Local\\Programs\\MUEDIT~1\\Python\\pythonw.exe -m pip install --upgrade pip' command.\n"
     ]
    },
    {
     "name": "stdout",
     "output_type": "stream",
     "text": [
      "\n",
      "Installing collected packages: scipy\n",
      "Successfully installed scipy-1.10.1\n"
     ]
    }
   ],
   "source": [
    "pip install scipy"
   ]
  },
  {
   "cell_type": "code",
   "execution_count": 11,
   "id": "e503db5f-143b-4f6b-8401-91e33812f936",
   "metadata": {},
   "outputs": [],
   "source": [
    "import pandas as pd\n",
    "import numpy as np\n",
    "import requests\n",
    "import json\n",
    "import matplotlib.pyplot as plt\n",
    "import scipy.stats as st"
   ]
  },
  {
   "cell_type": "code",
   "execution_count": 12,
   "id": "70079fd3-eb3d-4d57-b542-d0e5ab2df84a",
   "metadata": {},
   "outputs": [
    {
     "data": {
      "text/html": [
       "<div>\n",
       "<style scoped>\n",
       "    .dataframe tbody tr th:only-of-type {\n",
       "        vertical-align: middle;\n",
       "    }\n",
       "\n",
       "    .dataframe tbody tr th {\n",
       "        vertical-align: top;\n",
       "    }\n",
       "\n",
       "    .dataframe thead th {\n",
       "        text-align: right;\n",
       "    }\n",
       "</style>\n",
       "<table border=\"1\" class=\"dataframe\">\n",
       "  <thead>\n",
       "    <tr style=\"text-align: right;\">\n",
       "      <th></th>\n",
       "      <th>Unnamed: 0</th>\n",
       "      <th>ID</th>\n",
       "      <th>Title</th>\n",
       "      <th>Year</th>\n",
       "      <th>Age</th>\n",
       "      <th>IMDb</th>\n",
       "      <th>Rotten Tomatoes</th>\n",
       "      <th>Netflix</th>\n",
       "      <th>Hulu</th>\n",
       "      <th>Prime Video</th>\n",
       "      <th>Disney+</th>\n",
       "      <th>Type</th>\n",
       "    </tr>\n",
       "  </thead>\n",
       "  <tbody>\n",
       "    <tr>\n",
       "      <th>0</th>\n",
       "      <td>0</td>\n",
       "      <td>1</td>\n",
       "      <td>Breaking Bad</td>\n",
       "      <td>2008</td>\n",
       "      <td>18+</td>\n",
       "      <td>9.4/10</td>\n",
       "      <td>100/100</td>\n",
       "      <td>1</td>\n",
       "      <td>0</td>\n",
       "      <td>0</td>\n",
       "      <td>0</td>\n",
       "      <td>1</td>\n",
       "    </tr>\n",
       "    <tr>\n",
       "      <th>1</th>\n",
       "      <td>1</td>\n",
       "      <td>2</td>\n",
       "      <td>Stranger Things</td>\n",
       "      <td>2016</td>\n",
       "      <td>16+</td>\n",
       "      <td>8.7/10</td>\n",
       "      <td>96/100</td>\n",
       "      <td>1</td>\n",
       "      <td>0</td>\n",
       "      <td>0</td>\n",
       "      <td>0</td>\n",
       "      <td>1</td>\n",
       "    </tr>\n",
       "    <tr>\n",
       "      <th>2</th>\n",
       "      <td>2</td>\n",
       "      <td>3</td>\n",
       "      <td>Attack on Titan</td>\n",
       "      <td>2013</td>\n",
       "      <td>18+</td>\n",
       "      <td>9.0/10</td>\n",
       "      <td>95/100</td>\n",
       "      <td>1</td>\n",
       "      <td>1</td>\n",
       "      <td>0</td>\n",
       "      <td>0</td>\n",
       "      <td>1</td>\n",
       "    </tr>\n",
       "    <tr>\n",
       "      <th>3</th>\n",
       "      <td>3</td>\n",
       "      <td>4</td>\n",
       "      <td>Better Call Saul</td>\n",
       "      <td>2015</td>\n",
       "      <td>18+</td>\n",
       "      <td>8.8/10</td>\n",
       "      <td>94/100</td>\n",
       "      <td>1</td>\n",
       "      <td>0</td>\n",
       "      <td>0</td>\n",
       "      <td>0</td>\n",
       "      <td>1</td>\n",
       "    </tr>\n",
       "    <tr>\n",
       "      <th>4</th>\n",
       "      <td>4</td>\n",
       "      <td>5</td>\n",
       "      <td>Dark</td>\n",
       "      <td>2017</td>\n",
       "      <td>16+</td>\n",
       "      <td>8.8/10</td>\n",
       "      <td>93/100</td>\n",
       "      <td>1</td>\n",
       "      <td>0</td>\n",
       "      <td>0</td>\n",
       "      <td>0</td>\n",
       "      <td>1</td>\n",
       "    </tr>\n",
       "  </tbody>\n",
       "</table>\n",
       "</div>"
      ],
      "text/plain": [
       "   Unnamed: 0  ID             Title  Year  Age    IMDb Rotten Tomatoes  \\\n",
       "0           0   1      Breaking Bad  2008  18+  9.4/10         100/100   \n",
       "1           1   2   Stranger Things  2016  16+  8.7/10          96/100   \n",
       "2           2   3   Attack on Titan  2013  18+  9.0/10          95/100   \n",
       "3           3   4  Better Call Saul  2015  18+  8.8/10          94/100   \n",
       "4           4   5              Dark  2017  16+  8.8/10          93/100   \n",
       "\n",
       "   Netflix  Hulu  Prime Video  Disney+  Type  \n",
       "0        1     0            0        0     1  \n",
       "1        1     0            0        0     1  \n",
       "2        1     1            0        0     1  \n",
       "3        1     0            0        0     1  \n",
       "4        1     0            0        0     1  "
      ]
     },
     "execution_count": 12,
     "metadata": {},
     "output_type": "execute_result"
    }
   ],
   "source": [
    "tv_shows_pd = pd.read_csv(\"Libraries/tv_shows.csv\")\n",
    "tv_shows_pd.head()"
   ]
  },
  {
   "cell_type": "code",
   "execution_count": 13,
   "id": "07f69bd4-0dfe-4639-b680-0c3980b8bdfa",
   "metadata": {},
   "outputs": [
    {
     "data": {
      "text/plain": [
       "5368"
      ]
     },
     "execution_count": 13,
     "metadata": {},
     "output_type": "execute_result"
    }
   ],
   "source": [
    "#number of tv shows\n",
    "tv_show_count = tv_shows_pd['ID'].nunique()\n",
    "tv_show_count"
   ]
  },
  {
   "cell_type": "code",
   "execution_count": 14,
   "id": "112a41b8-e533-4f16-9e11-10c93c1b38ff",
   "metadata": {},
   "outputs": [
    {
     "data": {
      "text/html": [
       "<div>\n",
       "<style scoped>\n",
       "    .dataframe tbody tr th:only-of-type {\n",
       "        vertical-align: middle;\n",
       "    }\n",
       "\n",
       "    .dataframe tbody tr th {\n",
       "        vertical-align: top;\n",
       "    }\n",
       "\n",
       "    .dataframe thead th {\n",
       "        text-align: right;\n",
       "    }\n",
       "</style>\n",
       "<table border=\"1\" class=\"dataframe\">\n",
       "  <thead>\n",
       "    <tr style=\"text-align: right;\">\n",
       "      <th></th>\n",
       "      <th>Unnamed: 0</th>\n",
       "      <th>ID</th>\n",
       "      <th>Title</th>\n",
       "      <th>Year</th>\n",
       "      <th>Age</th>\n",
       "      <th>IMDb</th>\n",
       "      <th>Rotten Tomatoes</th>\n",
       "      <th>Netflix</th>\n",
       "      <th>Hulu</th>\n",
       "      <th>Prime Video</th>\n",
       "      <th>Disney+</th>\n",
       "      <th>Type</th>\n",
       "    </tr>\n",
       "  </thead>\n",
       "  <tbody>\n",
       "    <tr>\n",
       "      <th>0</th>\n",
       "      <td>0</td>\n",
       "      <td>1</td>\n",
       "      <td>Breaking Bad</td>\n",
       "      <td>2008</td>\n",
       "      <td>18+</td>\n",
       "      <td>9.4/10</td>\n",
       "      <td>100/100</td>\n",
       "      <td>1</td>\n",
       "      <td>0</td>\n",
       "      <td>0</td>\n",
       "      <td>0</td>\n",
       "      <td>1</td>\n",
       "    </tr>\n",
       "    <tr>\n",
       "      <th>1</th>\n",
       "      <td>1</td>\n",
       "      <td>2</td>\n",
       "      <td>Stranger Things</td>\n",
       "      <td>2016</td>\n",
       "      <td>16+</td>\n",
       "      <td>8.7/10</td>\n",
       "      <td>96/100</td>\n",
       "      <td>1</td>\n",
       "      <td>0</td>\n",
       "      <td>0</td>\n",
       "      <td>0</td>\n",
       "      <td>1</td>\n",
       "    </tr>\n",
       "    <tr>\n",
       "      <th>2</th>\n",
       "      <td>2</td>\n",
       "      <td>3</td>\n",
       "      <td>Attack on Titan</td>\n",
       "      <td>2013</td>\n",
       "      <td>18+</td>\n",
       "      <td>9.0/10</td>\n",
       "      <td>95/100</td>\n",
       "      <td>1</td>\n",
       "      <td>1</td>\n",
       "      <td>0</td>\n",
       "      <td>0</td>\n",
       "      <td>1</td>\n",
       "    </tr>\n",
       "    <tr>\n",
       "      <th>3</th>\n",
       "      <td>3</td>\n",
       "      <td>4</td>\n",
       "      <td>Better Call Saul</td>\n",
       "      <td>2015</td>\n",
       "      <td>18+</td>\n",
       "      <td>8.8/10</td>\n",
       "      <td>94/100</td>\n",
       "      <td>1</td>\n",
       "      <td>0</td>\n",
       "      <td>0</td>\n",
       "      <td>0</td>\n",
       "      <td>1</td>\n",
       "    </tr>\n",
       "    <tr>\n",
       "      <th>4</th>\n",
       "      <td>4</td>\n",
       "      <td>5</td>\n",
       "      <td>Dark</td>\n",
       "      <td>2017</td>\n",
       "      <td>16+</td>\n",
       "      <td>8.8/10</td>\n",
       "      <td>93/100</td>\n",
       "      <td>1</td>\n",
       "      <td>0</td>\n",
       "      <td>0</td>\n",
       "      <td>0</td>\n",
       "      <td>1</td>\n",
       "    </tr>\n",
       "    <tr>\n",
       "      <th>...</th>\n",
       "      <td>...</td>\n",
       "      <td>...</td>\n",
       "      <td>...</td>\n",
       "      <td>...</td>\n",
       "      <td>...</td>\n",
       "      <td>...</td>\n",
       "      <td>...</td>\n",
       "      <td>...</td>\n",
       "      <td>...</td>\n",
       "      <td>...</td>\n",
       "      <td>...</td>\n",
       "      <td>...</td>\n",
       "    </tr>\n",
       "    <tr>\n",
       "      <th>4701</th>\n",
       "      <td>4701</td>\n",
       "      <td>5017</td>\n",
       "      <td>Human Nature</td>\n",
       "      <td>2013</td>\n",
       "      <td>NaN</td>\n",
       "      <td>NaN</td>\n",
       "      <td>13/100</td>\n",
       "      <td>1</td>\n",
       "      <td>0</td>\n",
       "      <td>1</td>\n",
       "      <td>0</td>\n",
       "      <td>1</td>\n",
       "    </tr>\n",
       "    <tr>\n",
       "      <th>5064</th>\n",
       "      <td>5064</td>\n",
       "      <td>5385</td>\n",
       "      <td>The Bad Batch</td>\n",
       "      <td>2021</td>\n",
       "      <td>7+</td>\n",
       "      <td>8.2/10</td>\n",
       "      <td>82/100</td>\n",
       "      <td>1</td>\n",
       "      <td>0</td>\n",
       "      <td>0</td>\n",
       "      <td>1</td>\n",
       "      <td>1</td>\n",
       "    </tr>\n",
       "    <tr>\n",
       "      <th>5097</th>\n",
       "      <td>5097</td>\n",
       "      <td>5425</td>\n",
       "      <td>The Muppets</td>\n",
       "      <td>2015</td>\n",
       "      <td>7+</td>\n",
       "      <td>7.4/10</td>\n",
       "      <td>64/100</td>\n",
       "      <td>1</td>\n",
       "      <td>0</td>\n",
       "      <td>0</td>\n",
       "      <td>1</td>\n",
       "      <td>1</td>\n",
       "    </tr>\n",
       "    <tr>\n",
       "      <th>5231</th>\n",
       "      <td>5231</td>\n",
       "      <td>5575</td>\n",
       "      <td>Pick of the Litter</td>\n",
       "      <td>2019</td>\n",
       "      <td>7+</td>\n",
       "      <td>8.1/10</td>\n",
       "      <td>47/100</td>\n",
       "      <td>1</td>\n",
       "      <td>1</td>\n",
       "      <td>0</td>\n",
       "      <td>1</td>\n",
       "      <td>1</td>\n",
       "    </tr>\n",
       "    <tr>\n",
       "      <th>5303</th>\n",
       "      <td>5303</td>\n",
       "      <td>5650</td>\n",
       "      <td>Becoming</td>\n",
       "      <td>2020</td>\n",
       "      <td>16+</td>\n",
       "      <td>6.8/10</td>\n",
       "      <td>38/100</td>\n",
       "      <td>1</td>\n",
       "      <td>0</td>\n",
       "      <td>0</td>\n",
       "      <td>1</td>\n",
       "      <td>1</td>\n",
       "    </tr>\n",
       "  </tbody>\n",
       "</table>\n",
       "<p>1971 rows × 12 columns</p>\n",
       "</div>"
      ],
      "text/plain": [
       "      Unnamed: 0    ID               Title  Year  Age    IMDb Rotten Tomatoes  \\\n",
       "0              0     1        Breaking Bad  2008  18+  9.4/10         100/100   \n",
       "1              1     2     Stranger Things  2016  16+  8.7/10          96/100   \n",
       "2              2     3     Attack on Titan  2013  18+  9.0/10          95/100   \n",
       "3              3     4    Better Call Saul  2015  18+  8.8/10          94/100   \n",
       "4              4     5                Dark  2017  16+  8.8/10          93/100   \n",
       "...          ...   ...                 ...   ...  ...     ...             ...   \n",
       "4701        4701  5017        Human Nature  2013  NaN     NaN          13/100   \n",
       "5064        5064  5385       The Bad Batch  2021   7+  8.2/10          82/100   \n",
       "5097        5097  5425         The Muppets  2015   7+  7.4/10          64/100   \n",
       "5231        5231  5575  Pick of the Litter  2019   7+  8.1/10          47/100   \n",
       "5303        5303  5650            Becoming  2020  16+  6.8/10          38/100   \n",
       "\n",
       "      Netflix  Hulu  Prime Video  Disney+  Type  \n",
       "0           1     0            0        0     1  \n",
       "1           1     0            0        0     1  \n",
       "2           1     1            0        0     1  \n",
       "3           1     0            0        0     1  \n",
       "4           1     0            0        0     1  \n",
       "...       ...   ...          ...      ...   ...  \n",
       "4701        1     0            1        0     1  \n",
       "5064        1     0            0        1     1  \n",
       "5097        1     0            0        1     1  \n",
       "5231        1     1            0        1     1  \n",
       "5303        1     0            0        1     1  \n",
       "\n",
       "[1971 rows x 12 columns]"
      ]
     },
     "execution_count": 14,
     "metadata": {},
     "output_type": "execute_result"
    }
   ],
   "source": [
    "#get the data for shows appearing on netflix\n",
    "tv_shows_netflix_ID = tv_shows_pd.loc[tv_shows_pd['Netflix'] == 1, :]\n",
    "tv_shows_netflix_ID"
   ]
  },
  {
   "cell_type": "code",
   "execution_count": 61,
   "id": "8c12dc3d-2764-4172-b78e-e178966db0f8",
   "metadata": {},
   "outputs": [
    {
     "data": {
      "text/plain": [
       "Text(0.5, 1.0, 'Age Distribution of TV Shows on Netflix')"
      ]
     },
     "execution_count": 61,
     "metadata": {},
     "output_type": "execute_result"
    },
    {
     "data": {
      "image/png": "[encoded data removed]",
      "text/plain": [
       "<Figure size 432x288 with 1 Axes>"
      ]
     },
     "metadata": {},
     "output_type": "display_data"
    }
   ],
   "source": [
    "#gets the dataframe for netflix shows that cater to age group of 18+\n",
    "netflix_over_18_pd = tv_shows_netflix_ID.loc[tv_shows_netflix_ID['Age'] == '18+',:]\n",
    "netflix_over_18_count = netflix_over_18_pd['ID'].nunique()\n",
    "netflix_over_18_count\n",
    "netflix_over_18_pd\n",
    "labels = ['all','7+','13+','16+','18+']\n",
    "netflix_age_data = tv_shows_netflix_ID[\"Age\"].value_counts()\n",
    "netflix_age_data.plot.pie(labels = labels, autopct= \"%1.1f%%\", wedgeprops={'linewidth': 3.0},\n",
    "       textprops={'size': 'x-large'})\n",
    "plt.title(\"Age Distribution of TV Shows on Netflix\")"
   ]
  },
  {
   "cell_type": "code",
   "execution_count": 62,
   "id": "035a388a-557b-480b-95da-7ffcfb154a24",
   "metadata": {},
   "outputs": [
    {
     "data": {
      "text/plain": [
       "Text(0.5, 1.0, 'Age Distribution of TV Shows on Hulu')"
      ]
     },
     "execution_count": 62,
     "metadata": {},
     "output_type": "execute_result"
    },
    {
     "data": {
      "image/png": "[encoded data removed]",
      "text/plain": [
       "<Figure size 432x288 with 1 Axes>"
      ]
     },
     "metadata": {},
     "output_type": "display_data"
    }
   ],
   "source": [
    "#gets the data for shows 18+ appearing on hulu\n",
    "tv_shows_hulu_ID = tv_shows_pd.loc[tv_shows_pd['Hulu'] == 1, :]\n",
    "#gets the dataframe for hulu shows that cater to age group of 18+\n",
    "hulu_over_18_pd = tv_shows_hulu_ID.loc[tv_shows_hulu_ID['Age'] == '18+',:]\n",
    "hulu_over_18_count = hulu_over_18_pd['ID'].nunique()\n",
    "hulu_over_18_count\n",
    "hulu_over_18_pd\n",
    "#Pie Chart showing the age distribution on Prime Video shows\n",
    "Hulu_Video_data = tv_shows_hulu_ID[\"Age\"].value_counts()\n",
    "Hulu_Video_data.plot.pie(labels = labels, autopct= \"%1.1f%%\", wedgeprops={'linewidth': 3.0},\n",
    "       textprops={'size': 'x-large'})\n",
    "plt.title(\"Age Distribution of TV Shows on Hulu\")"
   ]
  },
  {
   "cell_type": "code",
   "execution_count": 64,
   "id": "fe5009f0-4efc-4a37-a91b-6477e08a9b08",
   "metadata": {},
   "outputs": [
    {
     "data": {
      "text/plain": [
       "Text(0.5, 1.0, 'Age Distribution of TV Shows on Prime Video')"
      ]
     },
     "execution_count": 64,
     "metadata": {},
     "output_type": "execute_result"
    },
    {
     "data": {
      "image/png": "[encoded data removed]",
      "text/plain": [
       "<Figure size 432x288 with 1 Axes>"
      ]
     },
     "metadata": {},
     "output_type": "display_data"
    }
   ],
   "source": [
    "#gets the data for shows 18+ appearing on Prime Video\n",
    "tv_shows_primevid_ID = tv_shows_pd.loc[tv_shows_pd['Prime Video'] == 1, :]\n",
    "#gets the dataframe for Prime Video shows that cater to age group of 18+\n",
    "primevid_over_18_pd = tv_shows_primevid_ID.loc[tv_shows_primevid_ID['Age'] == '18+',:]\n",
    "primevid_over_18_count = primevid_over_18_pd['ID'].nunique()\n",
    "primevid_over_18_count\n",
    "primevid_over_18_pd\n",
    "#Pie Chart showing the age distribution on Prime Video shows\n",
    "Prime_Video_data = tv_shows_primevid_ID[\"Age\"].value_counts()\n",
    "Prime_Video_data.plot.pie(labels = labels, autopct= \"%1.1f%%\", wedgeprops={'linewidth': 3.0},\n",
    "       textprops={'size': 'x-large'})\n",
    "plt.title(\"Age Distribution of TV Shows on Prime Video\")"
   ]
  },
  {
   "cell_type": "code",
   "execution_count": 47,
   "id": "a8962ce7-95df-41f7-8513-68390ba29558",
   "metadata": {},
   "outputs": [
    {
     "data": {
      "text/html": [
       "<div>\n",
       "<style scoped>\n",
       "    .dataframe tbody tr th:only-of-type {\n",
       "        vertical-align: middle;\n",
       "    }\n",
       "\n",
       "    .dataframe tbody tr th {\n",
       "        vertical-align: top;\n",
       "    }\n",
       "\n",
       "    .dataframe thead th {\n",
       "        text-align: right;\n",
       "    }\n",
       "</style>\n",
       "<table border=\"1\" class=\"dataframe\">\n",
       "  <thead>\n",
       "    <tr style=\"text-align: right;\">\n",
       "      <th></th>\n",
       "      <th>Unnamed: 0</th>\n",
       "      <th>ID</th>\n",
       "      <th>Title</th>\n",
       "      <th>Year</th>\n",
       "      <th>Age</th>\n",
       "      <th>IMDb</th>\n",
       "      <th>Rotten Tomatoes</th>\n",
       "      <th>Netflix</th>\n",
       "      <th>Hulu</th>\n",
       "      <th>Prime Video</th>\n",
       "      <th>Disney+</th>\n",
       "      <th>Type</th>\n",
       "    </tr>\n",
       "  </thead>\n",
       "  <tbody>\n",
       "    <tr>\n",
       "      <th>2682</th>\n",
       "      <td>2682</td>\n",
       "      <td>2786</td>\n",
       "      <td>A Christmas Carol</td>\n",
       "      <td>2019</td>\n",
       "      <td>18+</td>\n",
       "      <td>7.2/10</td>\n",
       "      <td>54/100</td>\n",
       "      <td>0</td>\n",
       "      <td>1</td>\n",
       "      <td>0</td>\n",
       "      <td>1</td>\n",
       "      <td>1</td>\n",
       "    </tr>\n",
       "    <tr>\n",
       "      <th>3452</th>\n",
       "      <td>3452</td>\n",
       "      <td>3591</td>\n",
       "      <td>Invincible</td>\n",
       "      <td>2021</td>\n",
       "      <td>18+</td>\n",
       "      <td>8.7/10</td>\n",
       "      <td>88/100</td>\n",
       "      <td>0</td>\n",
       "      <td>0</td>\n",
       "      <td>1</td>\n",
       "      <td>1</td>\n",
       "      <td>1</td>\n",
       "    </tr>\n",
       "  </tbody>\n",
       "</table>\n",
       "</div>"
      ],
      "text/plain": [
       "      Unnamed: 0    ID              Title  Year  Age    IMDb Rotten Tomatoes  \\\n",
       "2682        2682  2786  A Christmas Carol  2019  18+  7.2/10          54/100   \n",
       "3452        3452  3591         Invincible  2021  18+  8.7/10          88/100   \n",
       "\n",
       "      Netflix  Hulu  Prime Video  Disney+  Type  \n",
       "2682        0     1            0        1     1  \n",
       "3452        0     0            1        1     1  "
      ]
     },
     "execution_count": 47,
     "metadata": {},
     "output_type": "execute_result"
    }
   ],
   "source": [
    "#gets the data for shows 18+ appearing on Disney+\n",
    "tv_shows_disney_ID = tv_shows_pd.loc[tv_shows_pd['Disney+'] == 1, :]\n",
    "#gets the dataframe for Disney+ shows that cater to age group of 18+\n",
    "disney_over_18_pd = tv_shows_disney_ID.loc[tv_shows_disney_ID['Age'] == '18+',:]\n",
    "disney_over_18_count = disney_over_18_pd['ID'].nunique()\n",
    "disney_over_18_count\n",
    "disney_over_18_pd"
   ]
  },
  {
   "cell_type": "code",
   "execution_count": 63,
   "id": "7fc24888-c316-4bab-a68a-546a6acbecce",
   "metadata": {},
   "outputs": [
    {
     "data": {
      "text/plain": [
       "Text(0.5, 1.0, 'Age Distribution of TV Shows on Disney')"
      ]
     },
     "execution_count": 63,
     "metadata": {},
     "output_type": "execute_result"
    },
    {
     "data": {
      "image/png": "[encoded data removed]",
      "text/plain": [
       "<Figure size 432x288 with 1 Axes>"
      ]
     },
     "metadata": {},
     "output_type": "display_data"
    }
   ],
   "source": [
    "#Pie Chart showing the age distribution on disney shows\n",
    "Disney_Age_data = tv_shows_disney_ID[\"Age\"].value_counts()\n",
    "\n",
    "Disney_Age_data.plot.pie(labels = labels, autopct= \"%1.1f%%\", wedgeprops={'linewidth': 3.0},\n",
    "       textprops={'size': 'x-large'})\n",
    "plt.title(\"Age Distribution of TV Shows on Disney\")"
   ]
  },
  {
   "cell_type": "code",
   "execution_count": 30,
   "id": "c27cd024-e680-4299-bd3f-a67d2ad05e48",
   "metadata": {},
   "outputs": [],
   "source": [
    "#gets the dataframe for Disney+ shows that cater to age group of 16+\n",
    "disney_over_16_pd = tv_shows_disney_ID.loc[tv_shows_disney_ID['Age'] == '16+',:]\n",
    "disney_over_16_count = disney_over_16_pd['ID'].nunique()\n",
    "#gets the dataframe for Disney+ shows that cater to age group of 13+\n",
    "disney_over_13_pd = tv_shows_disney_ID.loc[tv_shows_disney_ID['Age'] == '13+',:]\n",
    "disney_over_13_count = disney_over_13_pd['ID'].nunique()\n",
    "#gets the dataframe for Disney+ shows that cater to age group of 7+\n",
    "disney_over_7_pd = tv_shows_disney_ID.loc[tv_shows_disney_ID['Age'] == '7+',:]\n",
    "disney_over_7_count = disney_over_7_pd['ID'].nunique()\n",
    "#gets the dataframe for Disney+ shows that cater to age group of all\n",
    "disney_over_all_pd = tv_shows_disney_ID.loc[tv_shows_disney_ID['Age'] == 'all',:]\n",
    "disney_over_all_count = disney_over_all_pd['ID'].nunique()\n",
    "\n"
   ]
  },
  {
   "cell_type": "code",
   "execution_count": 68,
   "id": "78974742-c259-4848-929b-b9b05c80c6f1",
   "metadata": {},
   "outputs": [
    {
     "data": {
      "text/html": [
       "<div>\n",
       "<style scoped>\n",
       "    .dataframe tbody tr th:only-of-type {\n",
       "        vertical-align: middle;\n",
       "    }\n",
       "\n",
       "    .dataframe tbody tr th {\n",
       "        vertical-align: top;\n",
       "    }\n",
       "\n",
       "    .dataframe thead th {\n",
       "        text-align: right;\n",
       "    }\n",
       "</style>\n",
       "<table border=\"1\" class=\"dataframe\">\n",
       "  <thead>\n",
       "    <tr style=\"text-align: right;\">\n",
       "      <th></th>\n",
       "      <th>Unnamed: 0</th>\n",
       "      <th>ID</th>\n",
       "      <th>Title</th>\n",
       "      <th>Year</th>\n",
       "      <th>Age</th>\n",
       "      <th>Rotten Tomatoes</th>\n",
       "      <th>Netflix</th>\n",
       "      <th>Hulu</th>\n",
       "      <th>Prime Video</th>\n",
       "      <th>Disney+</th>\n",
       "      <th>Type</th>\n",
       "    </tr>\n",
       "  </thead>\n",
       "  <tbody>\n",
       "    <tr>\n",
       "      <th>0</th>\n",
       "      <td>0</td>\n",
       "      <td>1</td>\n",
       "      <td>The Irishman</td>\n",
       "      <td>2019</td>\n",
       "      <td>18+</td>\n",
       "      <td>98/100</td>\n",
       "      <td>1</td>\n",
       "      <td>0</td>\n",
       "      <td>0</td>\n",
       "      <td>0</td>\n",
       "      <td>0</td>\n",
       "    </tr>\n",
       "    <tr>\n",
       "      <th>1</th>\n",
       "      <td>1</td>\n",
       "      <td>2</td>\n",
       "      <td>Dangal</td>\n",
       "      <td>2016</td>\n",
       "      <td>7+</td>\n",
       "      <td>97/100</td>\n",
       "      <td>1</td>\n",
       "      <td>0</td>\n",
       "      <td>0</td>\n",
       "      <td>0</td>\n",
       "      <td>0</td>\n",
       "    </tr>\n",
       "    <tr>\n",
       "      <th>2</th>\n",
       "      <td>2</td>\n",
       "      <td>3</td>\n",
       "      <td>David Attenborough: A Life on Our Planet</td>\n",
       "      <td>2020</td>\n",
       "      <td>7+</td>\n",
       "      <td>95/100</td>\n",
       "      <td>1</td>\n",
       "      <td>0</td>\n",
       "      <td>0</td>\n",
       "      <td>0</td>\n",
       "      <td>0</td>\n",
       "    </tr>\n",
       "    <tr>\n",
       "      <th>3</th>\n",
       "      <td>3</td>\n",
       "      <td>4</td>\n",
       "      <td>Lagaan: Once Upon a Time in India</td>\n",
       "      <td>2001</td>\n",
       "      <td>7+</td>\n",
       "      <td>94/100</td>\n",
       "      <td>1</td>\n",
       "      <td>0</td>\n",
       "      <td>0</td>\n",
       "      <td>0</td>\n",
       "      <td>0</td>\n",
       "    </tr>\n",
       "    <tr>\n",
       "      <th>4</th>\n",
       "      <td>4</td>\n",
       "      <td>5</td>\n",
       "      <td>Roma</td>\n",
       "      <td>2018</td>\n",
       "      <td>18+</td>\n",
       "      <td>94/100</td>\n",
       "      <td>1</td>\n",
       "      <td>0</td>\n",
       "      <td>0</td>\n",
       "      <td>0</td>\n",
       "      <td>0</td>\n",
       "    </tr>\n",
       "  </tbody>\n",
       "</table>\n",
       "</div>"
      ],
      "text/plain": [
       "   Unnamed: 0  ID                                     Title  Year  Age  \\\n",
       "0           0   1                              The Irishman  2019  18+   \n",
       "1           1   2                                    Dangal  2016   7+   \n",
       "2           2   3  David Attenborough: A Life on Our Planet  2020   7+   \n",
       "3           3   4         Lagaan: Once Upon a Time in India  2001   7+   \n",
       "4           4   5                                      Roma  2018  18+   \n",
       "\n",
       "  Rotten Tomatoes  Netflix  Hulu  Prime Video  Disney+  Type  \n",
       "0          98/100        1     0            0        0     0  \n",
       "1          97/100        1     0            0        0     0  \n",
       "2          95/100        1     0            0        0     0  \n",
       "3          94/100        1     0            0        0     0  \n",
       "4          94/100        1     0            0        0     0  "
      ]
     },
     "execution_count": 68,
     "metadata": {},
     "output_type": "execute_result"
    }
   ],
   "source": [
    "#movies\n",
    "movies_pd = pd.read_csv(\"Libraries/MoviesOnStreamingPlatforms.csv\")\n",
    "movies_pd.head()\n"
   ]
  },
  {
   "cell_type": "code",
   "execution_count": 69,
   "id": "6b30284d-5581-4a68-baa0-9fa3fb6a4c6b",
   "metadata": {},
   "outputs": [
    {
     "data": {
      "text/plain": [
       "9515"
      ]
     },
     "execution_count": 69,
     "metadata": {},
     "output_type": "execute_result"
    }
   ],
   "source": [
    "movies_count = movies_pd['ID'].nunique()\n",
    "movies_count"
   ]
  },
  {
   "cell_type": "code",
   "execution_count": 71,
   "id": "ed26b00f-964c-4bb7-a1de-e122b7003815",
   "metadata": {},
   "outputs": [
    {
     "data": {
      "text/plain": [
       "Text(0.5, 1.0, 'Age Distribution of Movies on Netflix')"
      ]
     },
     "execution_count": 71,
     "metadata": {},
     "output_type": "execute_result"
    },
    {
     "data": {
      "image/png": "[encoded data removed]",
      "text/plain": [
       "<Figure size 432x288 with 1 Axes>"
      ]
     },
     "metadata": {},
     "output_type": "display_data"
    }
   ],
   "source": [
    "#gets the dataframe for netflix movies and their age\n",
    "\n",
    "movies_netflix_ID = movies_pd.loc[movies_pd['Netflix'] == 1, :]\n",
    "#Pie Chart showing the age distribution on Prime Video shows\n",
    "movies_netflix_data = movies_netflix_ID[\"Age\"].value_counts()\n",
    "movies_netflix_data.plot.pie(labels = labels, autopct= \"%1.1f%%\", wedgeprops={'linewidth': 3.0},\n",
    "       textprops={'size': 'x-large'})\n",
    "plt.title(\"Age Distribution of Movies on Netflix\")\n"
   ]
  },
  {
   "cell_type": "code",
   "execution_count": 72,
   "id": "a1218a6e-43cf-4c35-8316-06a8fae78713",
   "metadata": {},
   "outputs": [
    {
     "data": {
      "text/plain": [
       "Text(0.5, 1.0, 'Age Distribution of Movies on Hulu')"
      ]
     },
     "execution_count": 72,
     "metadata": {},
     "output_type": "execute_result"
    },
    {
     "data": {
      "image/png": "[encoded data removed]",
      "text/plain": [
       "<Figure size 432x288 with 1 Axes>"
      ]
     },
     "metadata": {},
     "output_type": "display_data"
    }
   ],
   "source": [
    "#gets the dataframe for hulu movies and their age\n",
    "\n",
    "movies_hulu_ID = movies_pd.loc[movies_pd['Hulu'] == 1, :]\n",
    "#Pie Chart showing the age distribution on Prime Video shows\n",
    "movies_hulu_data = movies_hulu_ID[\"Age\"].value_counts()\n",
    "movies_hulu_data.plot.pie(labels = labels, autopct= \"%1.1f%%\", wedgeprops={'linewidth': 3.0},\n",
    "       textprops={'size': 'x-large'})\n",
    "plt.title(\"Age Distribution of Movies on Hulu\")"
   ]
  },
  {
   "cell_type": "code",
   "execution_count": 73,
   "id": "3a2cd5b9-8963-4192-834b-2617625e9004",
   "metadata": {},
   "outputs": [
    {
     "data": {
      "text/plain": [
       "Text(0.5, 1.0, 'Age Distribution of Movies on Prime Video')"
      ]
     },
     "execution_count": 73,
     "metadata": {},
     "output_type": "execute_result"
    },
    {
     "data": {
      "image/png": "[encoded data removed]",
      "text/plain": [
       "<Figure size 432x288 with 1 Axes>"
      ]
     },
     "metadata": {},
     "output_type": "display_data"
    }
   ],
   "source": [
    "#gets the dataframe for Prime Video movies and their age\n",
    "\n",
    "movies_primeVid_ID = movies_pd.loc[movies_pd['Prime Video'] == 1, :]\n",
    "#Pie Chart showing the age distribution on Prime Video shows\n",
    "movies_primeVid_data = movies_primeVid_ID[\"Age\"].value_counts()\n",
    "movies_primeVid_data.plot.pie(labels = labels, autopct= \"%1.1f%%\", wedgeprops={'linewidth': 3.0},\n",
    "       textprops={'size': 'x-large'})\n",
    "plt.title(\"Age Distribution of Movies on Prime Video\")"
   ]
  },
  {
   "cell_type": "code",
   "execution_count": 76,
   "id": "7a8746b7-174a-4f9e-8cc3-079f53ec500b",
   "metadata": {},
   "outputs": [
    {
     "data": {
      "text/plain": [
       "Text(0.5, 1.0, 'Age Distribution of Movies on Disney+')"
      ]
     },
     "execution_count": 76,
     "metadata": {},
     "output_type": "execute_result"
    },
    {
     "data": {
      "image/png": "[encoded data removed]",
      "text/plain": [
       "<Figure size 432x288 with 1 Axes>"
      ]
     },
     "metadata": {},
     "output_type": "display_data"
    }
   ],
   "source": [
    "#gets the dataframe for Disney+ movies and their age\n",
    "\n",
    "movies_Disney_ID = movies_pd.loc[movies_pd['Disney+'] == 1, :]\n",
    "#Pie Chart showing the age distribution on Prime Video shows\n",
    "movies_Disney_data = movies_Disney_ID[\"Age\"].value_counts()\n",
    "movies_Disney_data.plot.pie(labels = labels, autopct= \"%1.1f%%\", wedgeprops={'linewidth': 3.0},\n",
    "       textprops={'size': 'x-large'})\n",
    "plt.title(\"Age Distribution of Movies on Disney+\")"
   ]
  },
  {
   "cell_type": "code",
   "execution_count": null,
   "id": "142959cb-3673-4d3c-9506-6ba00064a50b",
   "metadata": {},
   "outputs": [],
   "source": []
  }
 ],
 "metadata": {
  "kernelspec": {
   "display_name": "\"Python/Mu (mu_venv-38-20230605-130149)\"",
   "language": "python",
   "name": "mu_venv-38-20230605-130149"
  },
  "language_info": {
   "codemirror_mode": {
    "name": "ipython",
    "version": 3
   },
   "file_extension": ".py",
   "mimetype": "text/x-python",
   "name": "python",
   "nbconvert_exporter": "python",
   "pygments_lexer": "ipython3",
   "version": "3.8.12"
  }
 },
 "nbformat": 4,
 "nbformat_minor": 5
}

{
 "cells": [
  {
   "cell_type": "markdown",
   "id": "f835af7c",
   "metadata": {},
   "source": [
    "### Project 1 - file 5 - Genre & Country"
   ]
  },
  {
   "cell_type": "code",
   "execution_count": 3,
   "id": "68b7a2d2",
   "metadata": {},
   "outputs": [],
   "source": [
    "# Dependencies\n",
    "import pandas as pd\n",
    "import csv\n",
    "import matplotlib.pyplot as plt\n",
    "import numpy as np\n",
    "import requests\n",
    "import time\n",
    "from scipy.stats import linregress\n",
    "from datetime import datetime"
   ]
  },
  {
   "cell_type": "markdown",
   "id": "fe6a3e85",
   "metadata": {},
   "source": [
    "## Melanie Runser's code"
   ]
  },
  {
   "cell_type": "code",
   "execution_count": 4,
   "id": "8217989d",
   "metadata": {},
   "outputs": [],
   "source": [
    "#Reading in movie & tv data from Netflix & Disney+\n",
    "DmoviesDF = pd.read_csv(r\"C:\\Users\\melan\\OneDrive\\Desktop\\Bootcamp_Folder\\1-Project1\\Project1\\Cleanish Data\\By Country\\Disney Movies(C).csv\")\n",
    "DtvDF = pd.read_csv(r\"C:\\Users\\melan\\OneDrive\\Desktop\\Bootcamp_Folder\\1-Project1\\Project1\\Cleanish Data\\By Country\\Disney TV(C).csv\")\n",
    "NetflixmoviesDF = pd.read_csv(r\"C:\\Users\\melan\\OneDrive\\Desktop\\Bootcamp_Folder\\1-Project1\\Project1\\Cleanish Data\\By Country\\Netflix Movies(C).csv\")\n",
    "NetflixtvDF = pd.read_csv(r\"C:\\Users\\melan\\OneDrive\\Desktop\\Bootcamp_Folder\\1-Project1\\Project1\\Cleanish Data\\By Country\\Netflix TV(C).csv\")"
   ]
  },
  {
   "cell_type": "code",
   "execution_count": 5,
   "id": "05d5d8fc",
   "metadata": {},
   "outputs": [
    {
     "data": {
      "text/html": [
       "<div>\n",
       "<style scoped>\n",
       "    .dataframe tbody tr th:only-of-type {\n",
       "        vertical-align: middle;\n",
       "    }\n",
       "\n",
       "    .dataframe tbody tr th {\n",
       "        vertical-align: top;\n",
       "    }\n",
       "\n",
       "    .dataframe thead th {\n",
       "        text-align: right;\n",
       "    }\n",
       "</style>\n",
       "<table border=\"1\" class=\"dataframe\">\n",
       "  <thead>\n",
       "    <tr style=\"text-align: right;\">\n",
       "      <th></th>\n",
       "      <th>Unnamed: 0</th>\n",
       "      <th>Title</th>\n",
       "      <th>Type</th>\n",
       "      <th>Country</th>\n",
       "      <th>Director</th>\n",
       "      <th>Cast</th>\n",
       "      <th>Release Year</th>\n",
       "      <th>Rating</th>\n",
       "      <th>Duration</th>\n",
       "      <th>Vote Average</th>\n",
       "      <th>Service</th>\n",
       "    </tr>\n",
       "  </thead>\n",
       "  <tbody>\n",
       "    <tr>\n",
       "      <th>0</th>\n",
       "      <td>0</td>\n",
       "      <td>Levius</td>\n",
       "      <td>TV Show</td>\n",
       "      <td>Japan</td>\n",
       "      <td>Unknown</td>\n",
       "      <td>Nobunaga Shimazaki, Junichi Suwabe, Takahiro S...</td>\n",
       "      <td>2019</td>\n",
       "      <td>TV-14</td>\n",
       "      <td>1 Season</td>\n",
       "      <td>10.0</td>\n",
       "      <td>Netflix</td>\n",
       "    </tr>\n",
       "  </tbody>\n",
       "</table>\n",
       "</div>"
      ],
      "text/plain": [
       "   Unnamed: 0   Title     Type Country Director  \\\n",
       "0           0  Levius  TV Show   Japan  Unknown   \n",
       "\n",
       "                                                Cast  Release Year Rating  \\\n",
       "0  Nobunaga Shimazaki, Junichi Suwabe, Takahiro S...          2019  TV-14   \n",
       "\n",
       "   Duration  Vote Average  Service  \n",
       "0  1 Season          10.0  Netflix  "
      ]
     },
     "execution_count": 5,
     "metadata": {},
     "output_type": "execute_result"
    }
   ],
   "source": [
    "# Added name of each service\n",
    "DnameSeries = (\"Disney\")\n",
    "DmoviesDF[\"Service\"] = DnameSeries\n",
    "DtvDF[\"Service\"] = DnameSeries\n",
    "\n",
    "NetflixnameSeries = (\"Netflix\")\n",
    "NetflixmoviesDF[\"Service\"] = NetflixnameSeries\n",
    "NetflixtvDF[\"Service\"] = NetflixnameSeries\n",
    "\n",
    "NetflixtvDF.head(1)"
   ]
  },
  {
   "cell_type": "code",
   "execution_count": 6,
   "id": "bf588ce5",
   "metadata": {},
   "outputs": [
    {
     "data": {
      "text/html": [
       "<div>\n",
       "<style scoped>\n",
       "    .dataframe tbody tr th:only-of-type {\n",
       "        vertical-align: middle;\n",
       "    }\n",
       "\n",
       "    .dataframe tbody tr th {\n",
       "        vertical-align: top;\n",
       "    }\n",
       "\n",
       "    .dataframe thead th {\n",
       "        text-align: right;\n",
       "    }\n",
       "</style>\n",
       "<table border=\"1\" class=\"dataframe\">\n",
       "  <thead>\n",
       "    <tr style=\"text-align: right;\">\n",
       "      <th></th>\n",
       "      <th>Title</th>\n",
       "      <th>Type</th>\n",
       "      <th>Country</th>\n",
       "      <th>Release Year</th>\n",
       "      <th>Date Added</th>\n",
       "      <th>Rating</th>\n",
       "      <th>Vote Average</th>\n",
       "      <th>Service</th>\n",
       "    </tr>\n",
       "  </thead>\n",
       "  <tbody>\n",
       "    <tr>\n",
       "      <th>0</th>\n",
       "      <td>Far Away From Raven’s Home</td>\n",
       "      <td>Movie</td>\n",
       "      <td>Unknown</td>\n",
       "      <td>2021</td>\n",
       "      <td>September 10, 2021</td>\n",
       "      <td>TV-G</td>\n",
       "      <td>10.0</td>\n",
       "      <td>Disney</td>\n",
       "    </tr>\n",
       "  </tbody>\n",
       "</table>\n",
       "</div>"
      ],
      "text/plain": [
       "                        Title   Type  Country  Release Year  \\\n",
       "0  Far Away From Raven’s Home  Movie  Unknown          2021   \n",
       "\n",
       "           Date Added Rating  Vote Average Service  \n",
       "0  September 10, 2021   TV-G          10.0  Disney  "
      ]
     },
     "execution_count": 6,
     "metadata": {},
     "output_type": "execute_result"
    }
   ],
   "source": [
    "#Concatenate both datasets together\n",
    "country_concatDF = pd.concat([DmoviesDF, DtvDF,  NetflixmoviesDF, NetflixtvDF], ignore_index=True)\n",
    "#country_concatDF.to_csv('country_concat2.csv', index=True)\n",
    "\n",
    "#Removed unnecessary rows\n",
    "country_concatDF = country_concatDF[[\"Title\", \"Type\", \"Country\", \"Release Year\", \"Date Added\", \"Rating\", \"Vote Average\", \"Service\"]]\n",
    "country_concatDF.head(1)"
   ]
  },
  {
   "cell_type": "code",
   "execution_count": 7,
   "id": "406c0f03",
   "metadata": {},
   "outputs": [],
   "source": [
    "#Read in the By Genre datasets:\n",
    "DmoviesGDF = pd.read_csv(r\"C:\\Users\\melan\\OneDrive\\Desktop\\Bootcamp_Folder\\1-Project1\\Project1\\Cleanish Data\\By Genre\\Disney Movies(G).csv\")\n",
    "DtvGDF = pd.read_csv(r\"C:\\Users\\melan\\OneDrive\\Desktop\\Bootcamp_Folder\\1-Project1\\Project1\\Cleanish Data\\By Genre\\Disney TV(G).csv\")\n",
    "\n",
    "NetflixmoviesGDF = pd.read_csv(r\"C:\\Users\\melan\\OneDrive\\Desktop\\Bootcamp_Folder\\1-Project1\\Project1\\Cleanish Data\\By Genre\\Netflix Movies(G).csv\")\n",
    "NetflixtvGDF = pd.read_csv(r\"C:\\Users\\melan\\OneDrive\\Desktop\\Bootcamp_Folder\\1-Project1\\Project1\\Cleanish Data\\By Genre\\Netflix TV(G).csv\")"
   ]
  },
  {
   "cell_type": "code",
   "execution_count": 8,
   "id": "f9335f86",
   "metadata": {},
   "outputs": [
    {
     "data": {
      "text/html": [
       "<div>\n",
       "<style scoped>\n",
       "    .dataframe tbody tr th:only-of-type {\n",
       "        vertical-align: middle;\n",
       "    }\n",
       "\n",
       "    .dataframe tbody tr th {\n",
       "        vertical-align: top;\n",
       "    }\n",
       "\n",
       "    .dataframe thead th {\n",
       "        text-align: right;\n",
       "    }\n",
       "</style>\n",
       "<table border=\"1\" class=\"dataframe\">\n",
       "  <thead>\n",
       "    <tr style=\"text-align: right;\">\n",
       "      <th></th>\n",
       "      <th>Unnamed: 0</th>\n",
       "      <th>Title</th>\n",
       "      <th>Type</th>\n",
       "      <th>Cast</th>\n",
       "      <th>Release Year</th>\n",
       "      <th>Date Added</th>\n",
       "      <th>Rating</th>\n",
       "      <th>Duration</th>\n",
       "      <th>Genre</th>\n",
       "      <th>Vote Average</th>\n",
       "      <th>Service</th>\n",
       "    </tr>\n",
       "  </thead>\n",
       "  <tbody>\n",
       "    <tr>\n",
       "      <th>0</th>\n",
       "      <td>0</td>\n",
       "      <td>Disney Roll It Back (Shorts)</td>\n",
       "      <td>TV Show</td>\n",
       "      <td>Ramon Reed, Kaylin Hayman, Suzi Barrett, Tobie...</td>\n",
       "      <td>2019</td>\n",
       "      <td>February 26, 2021</td>\n",
       "      <td>TV-Y7</td>\n",
       "      <td>1 Season</td>\n",
       "      <td>Comedy</td>\n",
       "      <td>10.0</td>\n",
       "      <td>Disney</td>\n",
       "    </tr>\n",
       "  </tbody>\n",
       "</table>\n",
       "</div>"
      ],
      "text/plain": [
       "   Unnamed: 0                         Title     Type  \\\n",
       "0           0  Disney Roll It Back (Shorts)  TV Show   \n",
       "\n",
       "                                                Cast  Release Year  \\\n",
       "0  Ramon Reed, Kaylin Hayman, Suzi Barrett, Tobie...          2019   \n",
       "\n",
       "          Date Added Rating  Duration   Genre  Vote Average Service  \n",
       "0  February 26, 2021  TV-Y7  1 Season  Comedy          10.0  Disney  "
      ]
     },
     "execution_count": 8,
     "metadata": {},
     "output_type": "execute_result"
    }
   ],
   "source": [
    "# Added name of each service for the by Genre\n",
    "DnameSeries = (\"Disney\")\n",
    "DmoviesGDF[\"Service\"] = DnameSeries\n",
    "DtvGDF[\"Service\"] = DnameSeries\n",
    "\n",
    "NetflixnameSeries = (\"Netflix\")\n",
    "NetflixmoviesGDF[\"Service\"] = NetflixnameSeries\n",
    "NetflixtvGDF[\"Service\"] = NetflixnameSeries\n",
    "\n",
    "DtvGDF.head(1)"
   ]
  },
  {
   "cell_type": "code",
   "execution_count": 9,
   "id": "acb0001d",
   "metadata": {},
   "outputs": [
    {
     "data": {
      "text/html": [
       "<div>\n",
       "<style scoped>\n",
       "    .dataframe tbody tr th:only-of-type {\n",
       "        vertical-align: middle;\n",
       "    }\n",
       "\n",
       "    .dataframe tbody tr th {\n",
       "        vertical-align: top;\n",
       "    }\n",
       "\n",
       "    .dataframe thead th {\n",
       "        text-align: right;\n",
       "    }\n",
       "</style>\n",
       "<table border=\"1\" class=\"dataframe\">\n",
       "  <thead>\n",
       "    <tr style=\"text-align: right;\">\n",
       "      <th></th>\n",
       "      <th>Title</th>\n",
       "      <th>Type</th>\n",
       "      <th>Country</th>\n",
       "      <th>Release Year</th>\n",
       "      <th>Date Added</th>\n",
       "      <th>Rating</th>\n",
       "      <th>Vote Average</th>\n",
       "      <th>Service</th>\n",
       "      <th>Genre</th>\n",
       "    </tr>\n",
       "  </thead>\n",
       "  <tbody>\n",
       "    <tr>\n",
       "      <th>0</th>\n",
       "      <td>Far Away From Raven’s Home</td>\n",
       "      <td>Movie</td>\n",
       "      <td>NaN</td>\n",
       "      <td>2021</td>\n",
       "      <td>September 10, 2021</td>\n",
       "      <td>TV-G</td>\n",
       "      <td>10.0</td>\n",
       "      <td>Disney</td>\n",
       "      <td>Comedy</td>\n",
       "    </tr>\n",
       "  </tbody>\n",
       "</table>\n",
       "</div>"
      ],
      "text/plain": [
       "                        Title   Type Country  Release Year  \\\n",
       "0  Far Away From Raven’s Home  Movie     NaN          2021   \n",
       "\n",
       "           Date Added Rating  Vote Average Service   Genre  \n",
       "0  September 10, 2021   TV-G          10.0  Disney  Comedy  "
      ]
     },
     "execution_count": 9,
     "metadata": {},
     "output_type": "execute_result"
    }
   ],
   "source": [
    "#Concatenate genre datasets together\n",
    "genre_concatDF = pd.concat([DmoviesGDF, DtvGDF,  NetflixmoviesGDF, NetflixtvGDF], ignore_index=True)\n",
    "genre_concatDF.to_csv('genre_concat2.csv', index=True)\n",
    "\n",
    "#Removed unnecessary columns\n",
    "genre_concatDF = genre_concatDF[[\"Title\", \"Type\", \"Country\", \"Release Year\", \"Date Added\", \"Rating\", \"Vote Average\", \"Service\", \"Genre\"]]\n",
    "genre_concatDF.head(1)\n",
    "\n",
    "#had to remove , \"Genres\""
   ]
  },
  {
   "cell_type": "code",
   "execution_count": 10,
   "id": "8303d96f",
   "metadata": {},
   "outputs": [
    {
     "data": {
      "text/html": [
       "<div>\n",
       "<style scoped>\n",
       "    .dataframe tbody tr th:only-of-type {\n",
       "        vertical-align: middle;\n",
       "    }\n",
       "\n",
       "    .dataframe tbody tr th {\n",
       "        vertical-align: top;\n",
       "    }\n",
       "\n",
       "    .dataframe thead th {\n",
       "        text-align: right;\n",
       "    }\n",
       "</style>\n",
       "<table border=\"1\" class=\"dataframe\">\n",
       "  <thead>\n",
       "    <tr style=\"text-align: right;\">\n",
       "      <th></th>\n",
       "      <th>Title</th>\n",
       "      <th>Type</th>\n",
       "      <th>Country</th>\n",
       "      <th>Release Year</th>\n",
       "      <th>Date Added</th>\n",
       "      <th>Rating</th>\n",
       "      <th>Vote Average</th>\n",
       "      <th>Service</th>\n",
       "      <th>Genre</th>\n",
       "      <th>Genres</th>\n",
       "    </tr>\n",
       "  </thead>\n",
       "  <tbody>\n",
       "    <tr>\n",
       "      <th>0</th>\n",
       "      <td>Far Away From Raven’s Home</td>\n",
       "      <td>Movie</td>\n",
       "      <td>Unknown</td>\n",
       "      <td>2021</td>\n",
       "      <td>September 10, 2021</td>\n",
       "      <td>TV-G</td>\n",
       "      <td>10.0</td>\n",
       "      <td>Disney</td>\n",
       "      <td></td>\n",
       "      <td></td>\n",
       "    </tr>\n",
       "  </tbody>\n",
       "</table>\n",
       "</div>"
      ],
      "text/plain": [
       "                        Title   Type  Country  Release Year  \\\n",
       "0  Far Away From Raven’s Home  Movie  Unknown          2021   \n",
       "\n",
       "           Date Added Rating  Vote Average Service Genre Genres  \n",
       "0  September 10, 2021   TV-G          10.0  Disney               "
      ]
     },
     "execution_count": 10,
     "metadata": {},
     "output_type": "execute_result"
    }
   ],
   "source": [
    "#Adding columns for genre data to the country dataset\n",
    "country_concatDF[\"Genre\"] = \"\"\n",
    "country_concatDF[\"Genres\"] = \"\"\n",
    "country_concatDF.head(1)"
   ]
  },
  {
   "cell_type": "code",
   "execution_count": 11,
   "id": "5c4ba87a",
   "metadata": {},
   "outputs": [
    {
     "data": {
      "text/html": [
       "<div>\n",
       "<style scoped>\n",
       "    .dataframe tbody tr th:only-of-type {\n",
       "        vertical-align: middle;\n",
       "    }\n",
       "\n",
       "    .dataframe tbody tr th {\n",
       "        vertical-align: top;\n",
       "    }\n",
       "\n",
       "    .dataframe thead th {\n",
       "        text-align: right;\n",
       "    }\n",
       "</style>\n",
       "<table border=\"1\" class=\"dataframe\">\n",
       "  <thead>\n",
       "    <tr style=\"text-align: right;\">\n",
       "      <th></th>\n",
       "      <th>Title</th>\n",
       "      <th>Type</th>\n",
       "      <th>Country</th>\n",
       "      <th>Release Year</th>\n",
       "      <th>Date Added</th>\n",
       "      <th>Service</th>\n",
       "      <th>Genre</th>\n",
       "    </tr>\n",
       "  </thead>\n",
       "  <tbody>\n",
       "    <tr>\n",
       "      <th>0</th>\n",
       "      <td>Far Away From Raven’s Home</td>\n",
       "      <td>Movie</td>\n",
       "      <td>Unknown</td>\n",
       "      <td>2021</td>\n",
       "      <td>September 10, 2021</td>\n",
       "      <td>Disney</td>\n",
       "      <td>Comedy</td>\n",
       "    </tr>\n",
       "  </tbody>\n",
       "</table>\n",
       "</div>"
      ],
      "text/plain": [
       "                        Title   Type  Country  Release Year  \\\n",
       "0  Far Away From Raven’s Home  Movie  Unknown          2021   \n",
       "\n",
       "           Date Added Service   Genre  \n",
       "0  September 10, 2021  Disney  Comedy  "
      ]
     },
     "execution_count": 11,
     "metadata": {},
     "output_type": "execute_result"
    }
   ],
   "source": [
    "# Merging both the country & genre datasets on the title column \n",
    "allDF = pd.merge(country_concatDF, genre_concatDF, on=\"Title\")\n",
    "\n",
    "#Removing unnecessary columns\n",
    "allDF = allDF[[\"Title\", \"Type_x\", \"Country_x\", \"Release Year_x\", \"Date Added_x\", \"Service_x\", \"Genre_y\"]]\n",
    "\n",
    "#Renaming columns that were kept\n",
    "allDF = allDF.rename(columns={\"Country_x\":\"Country\", \"Type_x\":\"Type\", \"Release Year_x\":\"Release Year\", \"Date Added_x\":\"Date Added\", \"Service_x\":\"Service\", \"Genre_y\":\"Genre\" })\n",
    "allDF.head(1)"
   ]
  },
  {
   "cell_type": "code",
   "execution_count": 12,
   "id": "785fdb1e",
   "metadata": {},
   "outputs": [],
   "source": [
    "#Wrting the new combined data to a csv file\n",
    "allDF.to_csv('Mels allDF.csv', index=True)"
   ]
  },
  {
   "cell_type": "code",
   "execution_count": 13,
   "id": "642adccc",
   "metadata": {},
   "outputs": [
    {
     "data": {
      "text/plain": [
       "29934"
      ]
     },
     "execution_count": 13,
     "metadata": {},
     "output_type": "execute_result"
    }
   ],
   "source": [
    "#Find original row count after data merge\n",
    "len(allDF[\"Title\"])"
   ]
  },
  {
   "cell_type": "code",
   "execution_count": 14,
   "id": "67f58df7",
   "metadata": {},
   "outputs": [
    {
     "data": {
      "text/plain": [
       "array(['Unknown', 'United States', 'Canada', 'United Kingdom', 'France',\n",
       "       'China', 'United Arab Emirates', 'Hong Kong', 'Germany',\n",
       "       'Australia', 'New Zealand', 'India', 'Austria', 'South Africa',\n",
       "       'Angola', 'Botswana', 'Namibia', 'Switzerland', 'Spain', 'Denmark',\n",
       "       'Singapore', 'Thailand', 'Panama', 'Mexico', 'Taiwan', 'Tanzania',\n",
       "       'Belgium', 'Brazil', 'Poland', 'Slovenia', 'Czech Republic',\n",
       "       'Malaysia', 'Japan', 'South Korea', 'Russia', 'Kazakhstan',\n",
       "       'Syria', 'Iran', 'Egypt', 'Pakistan', 'Ireland', 'Hungary',\n",
       "       'Argentina', 'Philippines', 'Luxembourg', 'Guatemala', 'Chile',\n",
       "       nan, 'Nigeria', 'Cambodia', 'Peru', 'Cayman Islands', 'Colombia',\n",
       "       'Lebanon', 'Turkey', 'Italy', 'Netherlands', 'Vietnam', 'Norway',\n",
       "       'Jordan', 'Qatar', 'Indonesia', 'Zimbabwe', 'Bangladesh',\n",
       "       'Ukraine', 'Greece', 'Iceland', 'Sweden', 'Romania', 'Kenya',\n",
       "       'Kuwait', 'Bulgaria', 'Serbia', 'Senegal', 'Finland', 'Israel',\n",
       "       'Venezuela', 'Slovakia', 'Portugal', 'Ghana', 'Malawi', 'Uruguay',\n",
       "       'Liechtenstein', 'Morocco', 'Somalia', 'Sudan', 'Croatia',\n",
       "       'Vatican City', 'East Germany', 'West Germany', 'Armenia',\n",
       "       'Mongolia', 'Saudi Arabia', 'Nepal', 'Algeria', 'Samoa', 'Malta',\n",
       "       'Soviet Union', 'Albania', 'Mozambique', 'Iraq', 'Puerto Rico',\n",
       "       'US', 'IN', 'FR'], dtype=object)"
      ]
     },
     "execution_count": 14,
     "metadata": {},
     "output_type": "execute_result"
    }
   ],
   "source": [
    "#Trim function in python - all strings\n",
    "strings = allDF.select_dtypes(['object'])\n",
    "allDF[strings.columns] = strings.apply(lambda x: x.str.strip())\n",
    "\n",
    "allDF.head()\n",
    "allDF[\"Country\"].unique()"
   ]
  },
  {
   "cell_type": "code",
   "execution_count": 15,
   "id": "9d497cf1",
   "metadata": {},
   "outputs": [
    {
     "data": {
      "text/plain": [
       "7517"
      ]
     },
     "execution_count": 15,
     "metadata": {},
     "output_type": "execute_result"
    }
   ],
   "source": [
    "#Removing duplicate\n",
    "allDF.drop_duplicates(subset=[\"Title\", \"Country\", \"Service\"], keep=\"first\", inplace=True)\n",
    "len(allDF[\"Title\"])"
   ]
  },
  {
   "cell_type": "code",
   "execution_count": 16,
   "id": "1229f6a5",
   "metadata": {},
   "outputs": [
    {
     "data": {
      "text/html": [
       "<div>\n",
       "<style scoped>\n",
       "    .dataframe tbody tr th:only-of-type {\n",
       "        vertical-align: middle;\n",
       "    }\n",
       "\n",
       "    .dataframe tbody tr th {\n",
       "        vertical-align: top;\n",
       "    }\n",
       "\n",
       "    .dataframe thead th {\n",
       "        text-align: right;\n",
       "    }\n",
       "</style>\n",
       "<table border=\"1\" class=\"dataframe\">\n",
       "  <thead>\n",
       "    <tr style=\"text-align: right;\">\n",
       "      <th></th>\n",
       "      <th>Country</th>\n",
       "      <th>Title</th>\n",
       "    </tr>\n",
       "  </thead>\n",
       "  <tbody>\n",
       "    <tr>\n",
       "      <th>0</th>\n",
       "      <td>United States</td>\n",
       "      <td>3219</td>\n",
       "    </tr>\n",
       "    <tr>\n",
       "      <th>1</th>\n",
       "      <td>India</td>\n",
       "      <td>594</td>\n",
       "    </tr>\n",
       "    <tr>\n",
       "      <th>2</th>\n",
       "      <td>United Kingdom</td>\n",
       "      <td>525</td>\n",
       "    </tr>\n",
       "    <tr>\n",
       "      <th>3</th>\n",
       "      <td>Canada</td>\n",
       "      <td>321</td>\n",
       "    </tr>\n",
       "    <tr>\n",
       "      <th>4</th>\n",
       "      <td>France</td>\n",
       "      <td>246</td>\n",
       "    </tr>\n",
       "    <tr>\n",
       "      <th>5</th>\n",
       "      <td>Japan</td>\n",
       "      <td>158</td>\n",
       "    </tr>\n",
       "  </tbody>\n",
       "</table>\n",
       "</div>"
      ],
      "text/plain": [
       "          Country Title\n",
       "0   United States  3219\n",
       "1           India   594\n",
       "2  United Kingdom   525\n",
       "3          Canada   321\n",
       "4          France   246\n",
       "5           Japan   158"
      ]
     },
     "execution_count": 16,
     "metadata": {},
     "output_type": "execute_result"
    }
   ],
   "source": [
    "#Value counts of titles by country → turned into DF to make easier to work with\n",
    "titles_by_countryDF = pd.DataFrame(allDF[\"Country\"].value_counts().reset_index().values, columns=[\"Country\", \"Title\"])\n",
    "titles_by_countryDF = titles_by_countryDF.sort_index(axis = 0, ascending=True)\n",
    "\n",
    "#Ditch the \"Unknown\" country values\n",
    "titles_by_countryDF = titles_by_countryDF.loc[titles_by_countryDF[\"Country\"] != \"Unknown\"]\n",
    "titles_by_countryDF.head(6)\n",
    "top6 = pd.DataFrame(titles_by_countryDF.head(6).reset_index().values, columns=[\"\", \"Country\", \"Title\"]) #wants 3 values\n",
    "top6 = top6.drop(columns=[\"\"]) #sometimes this works, sometimes it throws an error??\n",
    "top6 = top6.sort_index(axis = 0, ascending=True) \n",
    "\n",
    "#Create DF of just the top6 to work with  → 12 is way too big\n",
    "top6[[\"Country\", \"Title\"]]\n",
    "top6\n"
   ]
  },
  {
   "cell_type": "code",
   "execution_count": 17,
   "id": "1e892b46",
   "metadata": {},
   "outputs": [
    {
     "data": {
      "text/plain": [
       "array(['Comedy', 'Animals & Nature', 'Documentary', 'Animation', 'Movies',\n",
       "       'Drama', 'Family', 'Coming of Age', 'Fantasy', 'Action-Adventure',\n",
       "       'Biographical', 'Crime', 'Concert Film', 'Lifestyle', 'Dance',\n",
       "       'Anthology', 'Historical', 'Science Fiction', 'Sports', 'Musical',\n",
       "       'Buddy', 'Variety', 'Reality', 'Docuseries', 'Series',\n",
       "       'Game Show / Competition', 'Music', 'Kids', 'Talk Show',\n",
       "       'Comedies', 'Dramas', 'Independent Movies', 'Stand-Up Comedy',\n",
       "       'Action & Adventure', 'Horror Movies', 'Children & Family Movies',\n",
       "       'Music & Musicals', 'Sports Movies', 'Documentaries',\n",
       "       'Cult Movies', 'International Movies', 'Anime Features',\n",
       "       'Thrillers', 'Classic Movies', 'Sci-Fi & Fantasy',\n",
       "       'Romantic Movies', 'LGBTQ Movies', 'Anime Series',\n",
       "       'International TV Shows', 'TV Horror', \"Kids' TV\",\n",
       "       'Romantic TV Shows', 'Crime TV Shows', 'TV Action & Adventure',\n",
       "       'TV Dramas', 'Classic & Cult TV', 'Reality TV', 'British TV Shows',\n",
       "       'TV Comedies', 'Stand-Up Comedy & Talk Shows', 'TV Shows',\n",
       "       'Spanish-Language TV Shows'], dtype=object)"
      ]
     },
     "execution_count": 17,
     "metadata": {},
     "output_type": "execute_result"
    }
   ],
   "source": [
    "allDF[\"Genre\"].unique()"
   ]
  },
  {
   "cell_type": "code",
   "execution_count": 18,
   "id": "c533428c",
   "metadata": {},
   "outputs": [
    {
     "data": {
      "text/plain": [
       "62"
      ]
     },
     "execution_count": 18,
     "metadata": {},
     "output_type": "execute_result"
    }
   ],
   "source": [
    "genre_raw_count = len(allDF[\"Genre\"].unique())\n",
    "genre_raw_count"
   ]
  },
  {
   "cell_type": "code",
   "execution_count": 19,
   "id": "a65d9ad8",
   "metadata": {},
   "outputs": [
    {
     "data": {
      "text/plain": [
       "array(['Comedy', 'Animals & Nature', 'Documentary', 'Animation', 'Movies',\n",
       "       'Drama', '2', 'Coming of Age', 'Fantasy', 'Action-Adventure',\n",
       "       'Biographical', 'Crime', 'Concert Film', 'Lifestyle', 'Dance',\n",
       "       'Anthology', 'Historical', 'Science Fiction', 'Sports', 'Musical',\n",
       "       'Buddy', 'Variety', 'Reality', 'Docuseries', 'Series',\n",
       "       'Game Show / Competition', 'Music', '3', 'Talk Show', 'Comedies',\n",
       "       'Dramas', 'Independent Movies', 'Stand-Up Comedy',\n",
       "       'Action & Adventure', 'Horror Movies', '1', 'Music & Musicals',\n",
       "       'Sports Movies', 'Documentaries', 'Cult Movies',\n",
       "       'International Movies', 'Anime Features', 'Thrillers',\n",
       "       'Classic Movies', 'Sci-Fi & Fantasy', 'Romantic Movies',\n",
       "       'LGBTQ Movies', 'Anime Series', 'International TV Shows',\n",
       "       'TV Horror', '4', 'Romantic TV Shows', 'Crime TV Shows', '5',\n",
       "       'TV Dramas', 'Classic & Cult TV', 'Reality TV', 'British TV Shows',\n",
       "       'TV Comedies', 'Stand-Up Comedy & Talk Shows', 'TV Shows',\n",
       "       'Spanish-Language TV Shows'], dtype=object)"
      ]
     },
     "execution_count": 19,
     "metadata": {},
     "output_type": "execute_result"
    }
   ],
   "source": [
    "#1st pass of corrections\n",
    "genre_corrections1 = {\"Children & Family Movies\": \"1\",\n",
    "                     \"Family\": \"2\",\n",
    "                     \"Kids\": \"3\",\n",
    "                     \"Kids' TV\": \"4\",\n",
    "                     \"TV Action & Adventure\": \"5\"}\n",
    "\n",
    "\n",
    "allDF[\"Genre\"] = allDF[\"Genre\"].replace(genre_corrections1)\n",
    "allDF[\"Genre\"].unique()"
   ]
  },
  {
   "cell_type": "code",
   "execution_count": 20,
   "id": "8afbd39e",
   "metadata": {},
   "outputs": [
    {
     "data": {
      "text/plain": [
       "54"
      ]
     },
     "execution_count": 20,
     "metadata": {},
     "output_type": "execute_result"
    }
   ],
   "source": [
    "#2nd pass of genre corrections\n",
    "genre_corrections2 = {\"Action-Adventure\":\"Action & Adventure\",\n",
    "                      \"TV Comedy\":\"Comedy\",\n",
    "                      \"TV Drama\":\"Drama\",\n",
    "                      \"TV Horror\": \"Horror\",\n",
    "                    \"Comedies\": \"Comedy\",\n",
    "                    \"Dramas\":\"Drama\",\n",
    "                    \"1\": \"Kids & Family\",\n",
    "                    \"2\": \"Kids & Family\",\n",
    "                    \"3\": \"Kids & Family\",\n",
    "                     \"Docuseries\": \"Documentary\",\n",
    "                     \"Documentaries\": \"Documentary\",\n",
    "                     \"Fantasy\": \"Sci-Fi & Fantasy\"}\n",
    "                    \n",
    "allDF[\"Genre\"] = allDF[\"Genre\"].replace(genre_corrections2, regex=True)\n",
    "allDF[\"Genre\"].unique()\n",
    "len(allDF[\"Genre\"].unique())"
   ]
  },
  {
   "cell_type": "code",
   "execution_count": 21,
   "id": "6e845609",
   "metadata": {},
   "outputs": [
    {
     "data": {
      "text/html": [
       "<div>\n",
       "<style scoped>\n",
       "    .dataframe tbody tr th:only-of-type {\n",
       "        vertical-align: middle;\n",
       "    }\n",
       "\n",
       "    .dataframe tbody tr th {\n",
       "        vertical-align: top;\n",
       "    }\n",
       "\n",
       "    .dataframe thead th {\n",
       "        text-align: right;\n",
       "    }\n",
       "</style>\n",
       "<table border=\"1\" class=\"dataframe\">\n",
       "  <thead>\n",
       "    <tr style=\"text-align: right;\">\n",
       "      <th></th>\n",
       "      <th>Genre</th>\n",
       "      <th>Title</th>\n",
       "    </tr>\n",
       "  </thead>\n",
       "  <tbody>\n",
       "    <tr>\n",
       "      <th>0</th>\n",
       "      <td>Drama</td>\n",
       "      <td>1379</td>\n",
       "    </tr>\n",
       "    <tr>\n",
       "      <th>1</th>\n",
       "      <td>Action &amp; Adventure</td>\n",
       "      <td>1341</td>\n",
       "    </tr>\n",
       "    <tr>\n",
       "      <th>2</th>\n",
       "      <td>Comedy</td>\n",
       "      <td>1089</td>\n",
       "    </tr>\n",
       "    <tr>\n",
       "      <th>3</th>\n",
       "      <td>Documentary</td>\n",
       "      <td>825</td>\n",
       "    </tr>\n",
       "    <tr>\n",
       "      <th>4</th>\n",
       "      <td>Kids &amp; Family</td>\n",
       "      <td>491</td>\n",
       "    </tr>\n",
       "  </tbody>\n",
       "</table>\n",
       "</div>"
      ],
      "text/plain": [
       "                Genre Title\n",
       "0               Drama  1379\n",
       "1  Action & Adventure  1341\n",
       "2              Comedy  1089\n",
       "3         Documentary   825\n",
       "4       Kids & Family   491"
      ]
     },
     "execution_count": 21,
     "metadata": {},
     "output_type": "execute_result"
    }
   ],
   "source": [
    "#Decided where to split the top of the stack → chose > 100 \n",
    "#Need to replace value \n",
    "genre_countsDF = pd.DataFrame(allDF[[\"Genre\"]].value_counts().reset_index().values, columns=[\"Genre\", \"Title\"])\n",
    "genre_countsDF = genre_countsDF.loc[genre_countsDF[\"Title\"] > 400]\n",
    "genre_countsDF"
   ]
  },
  {
   "cell_type": "code",
   "execution_count": 22,
   "id": "098fa923",
   "metadata": {},
   "outputs": [
    {
     "data": {
      "text/plain": [
       "5125"
      ]
     },
     "execution_count": 22,
     "metadata": {},
     "output_type": "execute_result"
    }
   ],
   "source": [
    "genre_countsDF[\"Title\"].sum()"
   ]
  },
  {
   "cell_type": "code",
   "execution_count": 23,
   "id": "96a739b5",
   "metadata": {},
   "outputs": [
    {
     "data": {
      "text/html": [
       "<div>\n",
       "<style scoped>\n",
       "    .dataframe tbody tr th:only-of-type {\n",
       "        vertical-align: middle;\n",
       "    }\n",
       "\n",
       "    .dataframe tbody tr th {\n",
       "        vertical-align: top;\n",
       "    }\n",
       "\n",
       "    .dataframe thead th {\n",
       "        text-align: right;\n",
       "    }\n",
       "</style>\n",
       "<table border=\"1\" class=\"dataframe\">\n",
       "  <thead>\n",
       "    <tr style=\"text-align: right;\">\n",
       "      <th></th>\n",
       "      <th>Country</th>\n",
       "      <th>Service</th>\n",
       "      <th>Genre</th>\n",
       "      <th>Count</th>\n",
       "    </tr>\n",
       "  </thead>\n",
       "  <tbody>\n",
       "    <tr>\n",
       "      <th>78</th>\n",
       "      <td>Canada</td>\n",
       "      <td>Disney</td>\n",
       "      <td>Action &amp; Adventure</td>\n",
       "      <td>31</td>\n",
       "    </tr>\n",
       "    <tr>\n",
       "      <th>83</th>\n",
       "      <td>Canada</td>\n",
       "      <td>Disney</td>\n",
       "      <td>Comedy</td>\n",
       "      <td>16</td>\n",
       "    </tr>\n",
       "    <tr>\n",
       "      <th>86</th>\n",
       "      <td>Canada</td>\n",
       "      <td>Disney</td>\n",
       "      <td>Documentary</td>\n",
       "      <td>3</td>\n",
       "    </tr>\n",
       "    <tr>\n",
       "      <th>87</th>\n",
       "      <td>Canada</td>\n",
       "      <td>Disney</td>\n",
       "      <td>Drama</td>\n",
       "      <td>3</td>\n",
       "    </tr>\n",
       "    <tr>\n",
       "      <th>91</th>\n",
       "      <td>Canada</td>\n",
       "      <td>Netflix</td>\n",
       "      <td>Action &amp; Adventure</td>\n",
       "      <td>32</td>\n",
       "    </tr>\n",
       "    <tr>\n",
       "      <th>95</th>\n",
       "      <td>Canada</td>\n",
       "      <td>Netflix</td>\n",
       "      <td>Comedy</td>\n",
       "      <td>21</td>\n",
       "    </tr>\n",
       "    <tr>\n",
       "      <th>97</th>\n",
       "      <td>Canada</td>\n",
       "      <td>Netflix</td>\n",
       "      <td>Documentary</td>\n",
       "      <td>34</td>\n",
       "    </tr>\n",
       "    <tr>\n",
       "      <th>98</th>\n",
       "      <td>Canada</td>\n",
       "      <td>Netflix</td>\n",
       "      <td>Drama</td>\n",
       "      <td>43</td>\n",
       "    </tr>\n",
       "    <tr>\n",
       "      <th>104</th>\n",
       "      <td>Canada</td>\n",
       "      <td>Netflix</td>\n",
       "      <td>Kids &amp; Family</td>\n",
       "      <td>46</td>\n",
       "    </tr>\n",
       "    <tr>\n",
       "      <th>178</th>\n",
       "      <td>France</td>\n",
       "      <td>Disney</td>\n",
       "      <td>Action &amp; Adventure</td>\n",
       "      <td>11</td>\n",
       "    </tr>\n",
       "  </tbody>\n",
       "</table>\n",
       "</div>"
      ],
      "text/plain": [
       "    Country  Service               Genre  Count\n",
       "78   Canada   Disney  Action & Adventure     31\n",
       "83   Canada   Disney              Comedy     16\n",
       "86   Canada   Disney         Documentary      3\n",
       "87   Canada   Disney               Drama      3\n",
       "91   Canada  Netflix  Action & Adventure     32\n",
       "95   Canada  Netflix              Comedy     21\n",
       "97   Canada  Netflix         Documentary     34\n",
       "98   Canada  Netflix               Drama     43\n",
       "104  Canada  Netflix       Kids & Family     46\n",
       "178  France   Disney  Action & Adventure     11"
      ]
     },
     "execution_count": 23,
     "metadata": {},
     "output_type": "execute_result"
    }
   ],
   "source": [
    "#Multiple groupby so I don't have to write so much - copy from above\n",
    "groupedDF = allDF.groupby([\"Country\", \"Service\", \"Genre\"]).size().reset_index(name=\"Count\") \n",
    "groupedDF = groupedDF.loc[(groupedDF[\"Country\"] == \"United States\") | (groupedDF[\"Country\"] == \"United Kingdom\") | (groupedDF[\"Country\"] == \"India\") | (groupedDF[\"Country\"] == \"France\") | (groupedDF[\"Country\"] == \"Canada\") | (groupedDF[\"Country\"] == \"Japan\")]\n",
    "groupedDF = groupedDF.loc[(groupedDF[\"Genre\"] == \"Drama\") | (groupedDF[\"Genre\"] == \"Comedy\") | (groupedDF[\"Genre\"] == \"Action & Adventure\") | (groupedDF[\"Genre\"] == \"Documentary\") | (groupedDF[\"Genre\"] == \"Kids & Family\")]\n",
    "groupedDF.head(10)"
   ]
  },
  {
   "cell_type": "code",
   "execution_count": null,
   "id": "2b5dd2e6",
   "metadata": {},
   "outputs": [],
   "source": []
  },
  {
   "cell_type": "code",
   "execution_count": 26,
   "id": "7ac17e5f",
   "metadata": {},
   "outputs": [
    {
     "data": {
      "text/html": [
       "<div>\n",
       "<style scoped>\n",
       "    .dataframe tbody tr th:only-of-type {\n",
       "        vertical-align: middle;\n",
       "    }\n",
       "\n",
       "    .dataframe tbody tr th {\n",
       "        vertical-align: top;\n",
       "    }\n",
       "\n",
       "    .dataframe thead th {\n",
       "        text-align: right;\n",
       "    }\n",
       "</style>\n",
       "<table border=\"1\" class=\"dataframe\">\n",
       "  <thead>\n",
       "    <tr style=\"text-align: right;\">\n",
       "      <th></th>\n",
       "      <th>Country</th>\n",
       "      <th>Genre</th>\n",
       "      <th>Count</th>\n",
       "    </tr>\n",
       "  </thead>\n",
       "  <tbody>\n",
       "    <tr>\n",
       "      <th>0</th>\n",
       "      <td>India</td>\n",
       "      <td>Action &amp; Adventure</td>\n",
       "      <td>76</td>\n",
       "    </tr>\n",
       "    <tr>\n",
       "      <th>1</th>\n",
       "      <td>India</td>\n",
       "      <td>Comedy</td>\n",
       "      <td>165</td>\n",
       "    </tr>\n",
       "    <tr>\n",
       "      <th>2</th>\n",
       "      <td>India</td>\n",
       "      <td>Documentary</td>\n",
       "      <td>16</td>\n",
       "    </tr>\n",
       "    <tr>\n",
       "      <th>3</th>\n",
       "      <td>India</td>\n",
       "      <td>Drama</td>\n",
       "      <td>243</td>\n",
       "    </tr>\n",
       "    <tr>\n",
       "      <th>4</th>\n",
       "      <td>India</td>\n",
       "      <td>Kids &amp; Family</td>\n",
       "      <td>16</td>\n",
       "    </tr>\n",
       "  </tbody>\n",
       "</table>\n",
       "</div>"
      ],
      "text/plain": [
       "  Country               Genre  Count\n",
       "0   India  Action & Adventure     76\n",
       "1   India              Comedy    165\n",
       "2   India         Documentary     16\n",
       "3   India               Drama    243\n",
       "4   India       Kids & Family     16"
      ]
     },
     "execution_count": 26,
     "metadata": {},
     "output_type": "execute_result"
    }
   ],
   "source": [
    "canada_groupedDF = groupedDF.loc[groupedDF[\"Country\"] == \"Canada\"]\n",
    "all_canada_groupedDF = canada_groupedDF.groupby([\"Country\", \"Genre\"]).sum()\n",
    "all_canada_groupedDF = all_canada_groupedDF.drop(columns=[\"Service\"])\n",
    "all_canada_groupedDF = all_canada_groupedDF.reset_index()\n",
    "\n",
    "japan_groupedDF = groupedDF.loc[groupedDF[\"Country\"] == \"Japan\"]\n",
    "all_japan_groupedDF = japan_groupedDF.groupby([\"Country\", \"Genre\"]).sum()\n",
    "all_japan_groupedDF = all_japan_groupedDF.drop(columns=[\"Service\"])\n",
    "all_japan_groupedDF = all_japan_groupedDF.reset_index()\n",
    "\n",
    "\n",
    "US_groupedDF = groupedDF.loc[groupedDF[\"Country\"] == \"United States\"]\n",
    "all_US_groupedDF = US_groupedDF.groupby([\"Country\", \"Genre\"]).sum()\n",
    "all_US_groupedDF = all_US_groupedDF.drop(columns=[\"Service\"])\n",
    "all_US_groupedDF = all_US_groupedDF.reset_index()\n",
    "\n",
    "\n",
    "UK_groupedDF = groupedDF.loc[groupedDF[\"Country\"] == \"United Kingdom\"]\n",
    "all_UK_groupedDF = UK_groupedDF.groupby([\"Country\", \"Genre\"]).sum()\n",
    "all_UK_groupedDF = all_UK_groupedDF.drop(columns=[\"Service\"])\n",
    "all_UK_groupedDF = all_UK_groupedDF.reset_index()\n",
    "\n",
    "\n",
    "france_groupedDF = groupedDF.loc[groupedDF[\"Country\"] == \"France\"]\n",
    "all_france_groupedDF = france_groupedDF.groupby([\"Country\", \"Genre\"]).sum()\n",
    "all_france_groupedDF = all_france_groupedDF.drop(columns=[\"Service\"])\n",
    "all_france_groupedDF = all_france_groupedDF.reset_index()\n",
    "\n",
    "\n",
    "india_groupedDF = groupedDF.loc[groupedDF[\"Country\"] == \"India\"]\n",
    "all_india_groupedDF = india_groupedDF.groupby([\"Country\", \"Genre\"]).sum()\n",
    "all_india_groupedDF = all_india_groupedDF.drop(columns=[\"Service\"])\n",
    "all_india_groupedDF = all_india_groupedDF.reset_index()\n",
    "\n",
    "\n",
    "all_india_groupedDF"
   ]
  },
  {
   "cell_type": "code",
   "execution_count": 27,
   "id": "eb1f4be7",
   "metadata": {},
   "outputs": [
    {
     "data": {
      "image/png": "[encoded data removed]",
      "text/plain": [
       "<Figure size 640x480 with 1 Axes>"
      ]
     },
     "metadata": {},
     "output_type": "display_data"
    },
    {
     "data": {
      "text/plain": [
       "<Figure size 640x480 with 0 Axes>"
      ]
     },
     "metadata": {},
     "output_type": "display_data"
    }
   ],
   "source": [
    "#GENRE BY COUNTRY - INDIA\n",
    "genres = all_india_groupedDF[\"Genre\"]\n",
    "counts = all_india_groupedDF[\"Count\"]\n",
    "labels = all_india_groupedDF[\"Genre\"]\n",
    "colors = [\"lemonchiffon\", \"mediumvioletred\", \"lightsteelblue\", \"mediumpurple\", \"teal\", \"hotpink\", \"cornflowerblue\"]\n",
    "\n",
    "plt.pie(counts, labels=labels, colors=colors, autopct=\"%1.f%%\", \n",
    "        wedgeprops = {\"edgecolor\" : \"gray\", \n",
    "                      'linewidth': .5, \n",
    "                      'antialiased': True}) \n",
    "plt.title(\"Genre Breakdown in India\") \n",
    "plt.show()\n",
    "plt.savefig(\"Genre Breakdown in India.png\") \n"
   ]
  },
  {
   "cell_type": "code",
   "execution_count": 28,
   "id": "6a8c7bd4",
   "metadata": {},
   "outputs": [
    {
     "data": {
      "image/png": "[encoded data removed]",
      "text/plain": [
       "<Figure size 640x480 with 1 Axes>"
      ]
     },
     "metadata": {},
     "output_type": "display_data"
    },
    {
     "data": {
      "text/plain": [
       "<Figure size 640x480 with 0 Axes>"
      ]
     },
     "metadata": {},
     "output_type": "display_data"
    }
   ],
   "source": [
    "#GENRE BY COUNTRY\n",
    "genres = all_canada_groupedDF[\"Genre\"]\n",
    "counts = all_canada_groupedDF[\"Count\"]\n",
    "labels = all_canada_groupedDF[\"Genre\"]\n",
    "colors = [\"lemonchiffon\", \"mediumvioletred\", \"lightsteelblue\", \"mediumpurple\", \"teal\", \"hotpink\", \"cornflowerblue\"]\n",
    "\n",
    "plt.pie(counts, labels=labels, colors=colors, autopct=\"%1.f%%\", wedgeprops = {\"edgecolor\" : \"gray\", \n",
    "                      'linewidth': .5, \n",
    "                      'antialiased': True})\n",
    "plt.title(\"Genres Breakdown in Canada\") \n",
    "plt.show()\n",
    "plt.savefig(\"Genre Breakdown in Canada.png\") \n"
   ]
  },
  {
   "cell_type": "code",
   "execution_count": 29,
   "id": "e9ca8ee2",
   "metadata": {},
   "outputs": [
    {
     "data": {
      "image/png": "[encoded data removed]",
      "text/plain": [
       "<Figure size 640x480 with 1 Axes>"
      ]
     },
     "metadata": {},
     "output_type": "display_data"
    },
    {
     "data": {
      "text/plain": [
       "<Figure size 640x480 with 0 Axes>"
      ]
     },
     "metadata": {},
     "output_type": "display_data"
    }
   ],
   "source": [
    "#GENRE BY COUNTRY\n",
    "genres = all_france_groupedDF[\"Genre\"] \n",
    "counts = all_france_groupedDF[\"Count\"]\n",
    "labels = all_france_groupedDF[\"Genre\"]\n",
    "colors = [\"lemonchiffon\", \"mediumvioletred\", \"lightsteelblue\", \"mediumpurple\", \"teal\", \"hotpink\", \"cornflowerblue\"]\n",
    "\n",
    "plt.pie(counts, labels=labels, colors=colors, autopct=\"%1.f%%\", wedgeprops = {\"edgecolor\" : \"gray\", \n",
    "                      'linewidth': .5, \n",
    "                      'antialiased': True})\n",
    "plt.title(\"Genres Breakdown in France\") \n",
    "plt.show()\n",
    "plt.savefig(\"Genre Breakdown in France.png\") \n"
   ]
  },
  {
   "cell_type": "code",
   "execution_count": 30,
   "id": "84b3e78d",
   "metadata": {},
   "outputs": [
    {
     "data": {
      "image/png": "[encoded data removed]",
      "text/plain": [
       "<Figure size 640x480 with 1 Axes>"
      ]
     },
     "metadata": {},
     "output_type": "display_data"
    },
    {
     "data": {
      "text/plain": [
       "<Figure size 640x480 with 0 Axes>"
      ]
     },
     "metadata": {},
     "output_type": "display_data"
    }
   ],
   "source": [
    "#GENRE BY COUNTRY\n",
    "genres = all_UK_groupedDF[\"Genre\"] \n",
    "counts = all_UK_groupedDF[\"Count\"]\n",
    "labels = all_UK_groupedDF[\"Genre\"]\n",
    "colors = [\"lemonchiffon\", \"mediumvioletred\", \"lightsteelblue\", \"mediumpurple\", \"teal\", \"hotpink\", \"cornflowerblue\"]\n",
    "\n",
    "plt.pie(counts, labels=labels, colors=colors, autopct=\"%1.f%%\", wedgeprops = {\"edgecolor\" : \"gray\", \n",
    "                      'linewidth': .5, \n",
    "                      'antialiased': True}) \n",
    "plt.title(\"Genres Breakdown in the UK\") \n",
    "plt.show()\n",
    "plt.savefig(\"Genre Breakdown in the UK.png\") \n"
   ]
  },
  {
   "cell_type": "code",
   "execution_count": 31,
   "id": "edd372d8",
   "metadata": {},
   "outputs": [
    {
     "data": {
      "image/png": "[encoded data removed]",
      "text/plain": [
       "<Figure size 640x480 with 1 Axes>"
      ]
     },
     "metadata": {},
     "output_type": "display_data"
    },
    {
     "data": {
      "text/plain": [
       "<Figure size 640x480 with 0 Axes>"
      ]
     },
     "metadata": {},
     "output_type": "display_data"
    }
   ],
   "source": [
    "#GENRE BY COUNTRY\n",
    "genres = all_US_groupedDF[\"Genre\"] \n",
    "counts = all_US_groupedDF[\"Count\"]\n",
    "labels = all_US_groupedDF[\"Genre\"]\n",
    "colors = [\"lemonchiffon\", \"mediumvioletred\", \"lightsteelblue\", \"mediumpurple\", \"teal\", \"hotpink\", \"cornflowerblue\"]\n",
    "\n",
    "plt.pie(counts, labels=labels, colors=colors, autopct=\"%1.f%%\", wedgeprops = {\"edgecolor\" : \"gray\", \n",
    "                      'linewidth': .5, \n",
    "                      'antialiased': True}) \n",
    "plt.title(\"Genres Breakdown in the US\") \n",
    "plt.show()\n",
    "plt.savefig(\"Genre Breakdown in the US.png\") \n"
   ]
  },
  {
   "cell_type": "code",
   "execution_count": 32,
   "id": "166ce1d2",
   "metadata": {},
   "outputs": [
    {
     "data": {
      "image/png": "[encoded data removed]",
      "text/plain": [
       "<Figure size 640x480 with 1 Axes>"
      ]
     },
     "metadata": {},
     "output_type": "display_data"
    },
    {
     "data": {
      "text/plain": [
       "<Figure size 640x480 with 0 Axes>"
      ]
     },
     "metadata": {},
     "output_type": "display_data"
    }
   ],
   "source": [
    "#GENRE BY COUNTRY\n",
    "genres = all_japan_groupedDF[\"Genre\"] \n",
    "counts = all_japan_groupedDF[\"Count\"]\n",
    "labels = all_japan_groupedDF[\"Genre\"]\n",
    "colors = [\"lemonchiffon\", \"mediumvioletred\", \"lightsteelblue\", \"mediumpurple\", \"teal\", \"hotpink\", \"cornflowerblue\"]\n",
    "\n",
    "plt.pie(counts, labels=labels, colors=colors, autopct=\"%1.f%%\", wedgeprops = {\"edgecolor\" : \"gray\", \n",
    "                      'linewidth': .5, \n",
    "                      'antialiased': True})\n",
    "plt.title(\"Genres Breakdown in Japan\") \n",
    "plt.show()\n",
    "plt.savefig(\"Genre Breakdown in Japan.png\") \n"
   ]
  },
  {
   "cell_type": "code",
   "execution_count": 33,
   "id": "68dec7c1",
   "metadata": {},
   "outputs": [
    {
     "data": {
      "text/html": [
       "<div>\n",
       "<style scoped>\n",
       "    .dataframe tbody tr th:only-of-type {\n",
       "        vertical-align: middle;\n",
       "    }\n",
       "\n",
       "    .dataframe tbody tr th {\n",
       "        vertical-align: top;\n",
       "    }\n",
       "\n",
       "    .dataframe thead th {\n",
       "        text-align: right;\n",
       "    }\n",
       "</style>\n",
       "<table border=\"1\" class=\"dataframe\">\n",
       "  <thead>\n",
       "    <tr style=\"text-align: right;\">\n",
       "      <th></th>\n",
       "      <th>Country</th>\n",
       "      <th>Genre</th>\n",
       "      <th>Count</th>\n",
       "      <th>Ratio</th>\n",
       "    </tr>\n",
       "  </thead>\n",
       "  <tbody>\n",
       "    <tr>\n",
       "      <th>0</th>\n",
       "      <td>France</td>\n",
       "      <td>Action &amp; Adventure</td>\n",
       "      <td>37</td>\n",
       "      <td>20.56</td>\n",
       "    </tr>\n",
       "    <tr>\n",
       "      <th>1</th>\n",
       "      <td>France</td>\n",
       "      <td>Comedy</td>\n",
       "      <td>22</td>\n",
       "      <td>12.22</td>\n",
       "    </tr>\n",
       "    <tr>\n",
       "      <th>2</th>\n",
       "      <td>France</td>\n",
       "      <td>Documentary</td>\n",
       "      <td>29</td>\n",
       "      <td>16.11</td>\n",
       "    </tr>\n",
       "    <tr>\n",
       "      <th>3</th>\n",
       "      <td>France</td>\n",
       "      <td>Drama</td>\n",
       "      <td>78</td>\n",
       "      <td>43.33</td>\n",
       "    </tr>\n",
       "    <tr>\n",
       "      <th>4</th>\n",
       "      <td>France</td>\n",
       "      <td>Kids &amp; Family</td>\n",
       "      <td>14</td>\n",
       "      <td>7.78</td>\n",
       "    </tr>\n",
       "  </tbody>\n",
       "</table>\n",
       "</div>"
      ],
      "text/plain": [
       "  Country               Genre  Count  Ratio\n",
       "0  France  Action & Adventure     37  20.56\n",
       "1  France              Comedy     22  12.22\n",
       "2  France         Documentary     29  16.11\n",
       "3  France               Drama     78  43.33\n",
       "4  France       Kids & Family     14   7.78"
      ]
     },
     "execution_count": 33,
     "metadata": {},
     "output_type": "execute_result"
    }
   ],
   "source": [
    "#Find percentages to load them into a stacked bar chart\n",
    "\n",
    "total_count = all_japan_groupedDF[\"Count\"].sum()\n",
    "all_japan_groupedDF[\"Ratio\"] = (all_japan_groupedDF[\"Count\"] / total_count) * 100\n",
    "all_japan_groupedDF[\"Ratio\"] = all_japan_groupedDF[\"Ratio\"].round(2)\n",
    "\n",
    "total_count = all_canada_groupedDF[\"Count\"].sum()\n",
    "all_canada_groupedDF[\"Ratio\"] = (all_canada_groupedDF[\"Count\"] / total_count) * 100\n",
    "all_canada_groupedDF[\"Ratio\"] = all_canada_groupedDF[\"Ratio\"].round(2)\n",
    "\n",
    "total_count = all_UK_groupedDF[\"Count\"].sum()\n",
    "all_UK_groupedDF[\"Ratio\"] = (all_UK_groupedDF[\"Count\"] / total_count) * 100\n",
    "all_UK_groupedDF[\"Ratio\"] = all_UK_groupedDF[\"Ratio\"].round(2)\n",
    "\n",
    "total_count = all_US_groupedDF[\"Count\"].sum()\n",
    "all_US_groupedDF[\"Ratio\"] = (all_US_groupedDF[\"Count\"] / total_count) * 100\n",
    "all_US_groupedDF[\"Ratio\"] = all_US_groupedDF[\"Ratio\"].round(2)\n",
    "\n",
    "total_count = all_france_groupedDF[\"Count\"].sum()\n",
    "all_france_groupedDF[\"Ratio\"] = (all_france_groupedDF[\"Count\"] / total_count) * 100\n",
    "all_france_groupedDF[\"Ratio\"] = all_france_groupedDF[\"Ratio\"].round(2)\n",
    "\n",
    "all_france_groupedDF"
   ]
  },
  {
   "cell_type": "code",
   "execution_count": 34,
   "id": "6e8ee596",
   "metadata": {},
   "outputs": [],
   "source": [
    "import functools"
   ]
  },
  {
   "cell_type": "code",
   "execution_count": 35,
   "id": "eadb8b33",
   "metadata": {},
   "outputs": [
    {
     "data": {
      "text/html": [
       "<div>\n",
       "<style scoped>\n",
       "    .dataframe tbody tr th:only-of-type {\n",
       "        vertical-align: middle;\n",
       "    }\n",
       "\n",
       "    .dataframe tbody tr th {\n",
       "        vertical-align: top;\n",
       "    }\n",
       "\n",
       "    .dataframe thead th {\n",
       "        text-align: right;\n",
       "    }\n",
       "</style>\n",
       "<table border=\"1\" class=\"dataframe\">\n",
       "  <thead>\n",
       "    <tr style=\"text-align: right;\">\n",
       "      <th></th>\n",
       "      <th>Country</th>\n",
       "      <th>Genre</th>\n",
       "      <th>Count</th>\n",
       "      <th>Ratio</th>\n",
       "    </tr>\n",
       "  </thead>\n",
       "  <tbody>\n",
       "    <tr>\n",
       "      <th>0</th>\n",
       "      <td>France</td>\n",
       "      <td>Action &amp; Adventure</td>\n",
       "      <td>37</td>\n",
       "      <td>20.56</td>\n",
       "    </tr>\n",
       "    <tr>\n",
       "      <th>1</th>\n",
       "      <td>France</td>\n",
       "      <td>Comedy</td>\n",
       "      <td>22</td>\n",
       "      <td>12.22</td>\n",
       "    </tr>\n",
       "    <tr>\n",
       "      <th>2</th>\n",
       "      <td>France</td>\n",
       "      <td>Documentary</td>\n",
       "      <td>29</td>\n",
       "      <td>16.11</td>\n",
       "    </tr>\n",
       "    <tr>\n",
       "      <th>3</th>\n",
       "      <td>France</td>\n",
       "      <td>Drama</td>\n",
       "      <td>78</td>\n",
       "      <td>43.33</td>\n",
       "    </tr>\n",
       "    <tr>\n",
       "      <th>4</th>\n",
       "      <td>France</td>\n",
       "      <td>Kids &amp; Family</td>\n",
       "      <td>14</td>\n",
       "      <td>7.78</td>\n",
       "    </tr>\n",
       "  </tbody>\n",
       "</table>\n",
       "</div>"
      ],
      "text/plain": [
       "  Country               Genre  Count  Ratio\n",
       "0  France  Action & Adventure     37  20.56\n",
       "1  France              Comedy     22  12.22\n",
       "2  France         Documentary     29  16.11\n",
       "3  France               Drama     78  43.33\n",
       "4  France       Kids & Family     14   7.78"
      ]
     },
     "execution_count": 35,
     "metadata": {},
     "output_type": "execute_result"
    }
   ],
   "source": [
    "#Merge all the countries back together\n",
    "remergedDF = pd.concat([all_france_groupedDF, all_canada_groupedDF, all_UK_groupedDF, \n",
    "                       all_US_groupedDF, all_japan_groupedDF], axis=0, ignore_index=True)\n",
    "\n",
    "remergedDF.head()"
   ]
  },
  {
   "cell_type": "code",
   "execution_count": 36,
   "id": "684c6e84",
   "metadata": {},
   "outputs": [
    {
     "data": {
      "text/html": [
       "<div>\n",
       "<style scoped>\n",
       "    .dataframe tbody tr th:only-of-type {\n",
       "        vertical-align: middle;\n",
       "    }\n",
       "\n",
       "    .dataframe tbody tr th {\n",
       "        vertical-align: top;\n",
       "    }\n",
       "\n",
       "    .dataframe thead th {\n",
       "        text-align: right;\n",
       "    }\n",
       "</style>\n",
       "<table border=\"1\" class=\"dataframe\">\n",
       "  <thead>\n",
       "    <tr style=\"text-align: right;\">\n",
       "      <th>Genre</th>\n",
       "      <th>Action &amp; Adventure</th>\n",
       "      <th>Comedy</th>\n",
       "      <th>Documentary</th>\n",
       "      <th>Drama</th>\n",
       "      <th>Kids &amp; Family</th>\n",
       "    </tr>\n",
       "    <tr>\n",
       "      <th>Country</th>\n",
       "      <th></th>\n",
       "      <th></th>\n",
       "      <th></th>\n",
       "      <th></th>\n",
       "      <th></th>\n",
       "    </tr>\n",
       "  </thead>\n",
       "  <tbody>\n",
       "    <tr>\n",
       "      <th>Canada</th>\n",
       "      <td>27.51</td>\n",
       "      <td>16.16</td>\n",
       "      <td>16.16</td>\n",
       "      <td>20.09</td>\n",
       "      <td>20.09</td>\n",
       "    </tr>\n",
       "    <tr>\n",
       "      <th>France</th>\n",
       "      <td>20.56</td>\n",
       "      <td>12.22</td>\n",
       "      <td>16.11</td>\n",
       "      <td>43.33</td>\n",
       "      <td>7.78</td>\n",
       "    </tr>\n",
       "    <tr>\n",
       "      <th>Japan</th>\n",
       "      <td>64.71</td>\n",
       "      <td>1.47</td>\n",
       "      <td>7.35</td>\n",
       "      <td>19.12</td>\n",
       "      <td>7.35</td>\n",
       "    </tr>\n",
       "    <tr>\n",
       "      <th>United Kingdom</th>\n",
       "      <td>27.65</td>\n",
       "      <td>12.85</td>\n",
       "      <td>25.98</td>\n",
       "      <td>26.54</td>\n",
       "      <td>6.98</td>\n",
       "    </tr>\n",
       "    <tr>\n",
       "      <th>United States</th>\n",
       "      <td>31.12</td>\n",
       "      <td>21.97</td>\n",
       "      <td>18.53</td>\n",
       "      <td>17.40</td>\n",
       "      <td>10.99</td>\n",
       "    </tr>\n",
       "  </tbody>\n",
       "</table>\n",
       "</div>"
      ],
      "text/plain": [
       "Genre           Action & Adventure  Comedy  Documentary  Drama  Kids & Family\n",
       "Country                                                                      \n",
       "Canada                       27.51   16.16        16.16  20.09          20.09\n",
       "France                       20.56   12.22        16.11  43.33           7.78\n",
       "Japan                        64.71    1.47         7.35  19.12           7.35\n",
       "United Kingdom               27.65   12.85        25.98  26.54           6.98\n",
       "United States                31.12   21.97        18.53  17.40          10.99"
      ]
     },
     "execution_count": 36,
     "metadata": {},
     "output_type": "execute_result"
    }
   ],
   "source": [
    "#Stacked bar\n",
    "remergedDF = remergedDF.groupby([\"Country\", \"Genre\"])[\"Ratio\"].sum()\n",
    "\n",
    "#Unstack to get genre as columns\n",
    "unstacked_df = remergedDF.unstack().fillna(0)\n",
    "\n",
    "unstacked_df"
   ]
  },
  {
   "cell_type": "code",
   "execution_count": 38,
   "id": "d5b93a66",
   "metadata": {},
   "outputs": [
    {
     "data": {
      "image/png": "[encoded data removed]",
      "text/plain": [
       "<Figure size 640x480 with 1 Axes>"
      ]
     },
     "metadata": {},
     "output_type": "display_data"
    },
    {
     "data": {
      "text/plain": [
       "<Figure size 640x480 with 0 Axes>"
      ]
     },
     "metadata": {},
     "output_type": "display_data"
    }
   ],
   "source": [
    "colors = [\"lemonchiffon\", \"mediumvioletred\", \"lightsteelblue\", \"mediumpurple\", \"teal\", \"hotpink\", \"cornflowerblue\"]\n",
    "\n",
    "unstacked_df.plot(kind=\"barh\", stacked=True, color=colors)\n",
    "\n",
    "plt.title(\"Genres across Platforms\") \n",
    "#plt.xlabel(\"Country\") \n",
    "#plt.ylabel(\"# of Titles\") \n",
    "plt.legend(bbox_to_anchor=(.9, 1.0), loc=\"upper left\")\n",
    "plt.tight_layout()\n",
    "\n",
    "plt.show()\n",
    "plt.savefig(\"Genre Across Platforms.png\") \n"
   ]
  },
  {
   "cell_type": "code",
   "execution_count": 86,
   "id": "fd2fd75b",
   "metadata": {},
   "outputs": [
    {
     "data": {
      "text/html": [
       "<div>\n",
       "<style scoped>\n",
       "    .dataframe tbody tr th:only-of-type {\n",
       "        vertical-align: middle;\n",
       "    }\n",
       "\n",
       "    .dataframe tbody tr th {\n",
       "        vertical-align: top;\n",
       "    }\n",
       "\n",
       "    .dataframe thead th {\n",
       "        text-align: right;\n",
       "    }\n",
       "</style>\n",
       "<table border=\"1\" class=\"dataframe\">\n",
       "  <thead>\n",
       "    <tr style=\"text-align: right;\">\n",
       "      <th></th>\n",
       "      <th>Country</th>\n",
       "      <th>Service</th>\n",
       "      <th>Genre</th>\n",
       "      <th>Count</th>\n",
       "    </tr>\n",
       "  </thead>\n",
       "  <tbody>\n",
       "    <tr>\n",
       "      <th>78</th>\n",
       "      <td>Canada</td>\n",
       "      <td>Disney</td>\n",
       "      <td>Action &amp; Adventure</td>\n",
       "      <td>31</td>\n",
       "    </tr>\n",
       "    <tr>\n",
       "      <th>83</th>\n",
       "      <td>Canada</td>\n",
       "      <td>Disney</td>\n",
       "      <td>Comedy</td>\n",
       "      <td>16</td>\n",
       "    </tr>\n",
       "    <tr>\n",
       "      <th>86</th>\n",
       "      <td>Canada</td>\n",
       "      <td>Disney</td>\n",
       "      <td>Documentary</td>\n",
       "      <td>3</td>\n",
       "    </tr>\n",
       "    <tr>\n",
       "      <th>87</th>\n",
       "      <td>Canada</td>\n",
       "      <td>Disney</td>\n",
       "      <td>Drama</td>\n",
       "      <td>3</td>\n",
       "    </tr>\n",
       "    <tr>\n",
       "      <th>178</th>\n",
       "      <td>France</td>\n",
       "      <td>Disney</td>\n",
       "      <td>Action &amp; Adventure</td>\n",
       "      <td>11</td>\n",
       "    </tr>\n",
       "  </tbody>\n",
       "</table>\n",
       "</div>"
      ],
      "text/plain": [
       "    Country Service               Genre  Count\n",
       "78   Canada  Disney  Action & Adventure     31\n",
       "83   Canada  Disney              Comedy     16\n",
       "86   Canada  Disney         Documentary      3\n",
       "87   Canada  Disney               Drama      3\n",
       "178  France  Disney  Action & Adventure     11"
      ]
     },
     "execution_count": 86,
     "metadata": {},
     "output_type": "execute_result"
    }
   ],
   "source": [
    "groupedDF.head()\n",
    "netflix_groupedDF = groupedDF.loc[groupedDF[\"Service\"] == \"Netflix\"]\n",
    "disney_groupedDF = groupedDF.loc[groupedDF[\"Service\"] == \"Disney\"]\n",
    "\n",
    "disney_groupedDF.head()"
   ]
  },
  {
   "cell_type": "code",
   "execution_count": 106,
   "id": "f9f3382f",
   "metadata": {},
   "outputs": [
    {
     "data": {
      "text/html": [
       "<div>\n",
       "<style scoped>\n",
       "    .dataframe tbody tr th:only-of-type {\n",
       "        vertical-align: middle;\n",
       "    }\n",
       "\n",
       "    .dataframe tbody tr th {\n",
       "        vertical-align: top;\n",
       "    }\n",
       "\n",
       "    .dataframe thead th {\n",
       "        text-align: right;\n",
       "    }\n",
       "</style>\n",
       "<table border=\"1\" class=\"dataframe\">\n",
       "  <thead>\n",
       "    <tr style=\"text-align: right;\">\n",
       "      <th></th>\n",
       "      <th>Country</th>\n",
       "      <th>Count</th>\n",
       "      <th>Genre</th>\n",
       "      <th>Ratio</th>\n",
       "    </tr>\n",
       "  </thead>\n",
       "  <tbody>\n",
       "    <tr>\n",
       "      <th>0</th>\n",
       "      <td>Japan</td>\n",
       "      <td>1</td>\n",
       "      <td>Comedy</td>\n",
       "      <td>1.72</td>\n",
       "    </tr>\n",
       "    <tr>\n",
       "      <th>1</th>\n",
       "      <td>Japan</td>\n",
       "      <td>5</td>\n",
       "      <td>DocumentaryKids &amp; Family</td>\n",
       "      <td>8.62</td>\n",
       "    </tr>\n",
       "    <tr>\n",
       "      <th>2</th>\n",
       "      <td>Japan</td>\n",
       "      <td>13</td>\n",
       "      <td>Drama</td>\n",
       "      <td>22.41</td>\n",
       "    </tr>\n",
       "    <tr>\n",
       "      <th>3</th>\n",
       "      <td>Japan</td>\n",
       "      <td>39</td>\n",
       "      <td>Action &amp; Adventure</td>\n",
       "      <td>67.24</td>\n",
       "    </tr>\n",
       "  </tbody>\n",
       "</table>\n",
       "</div>"
      ],
      "text/plain": [
       "  Country  Count                     Genre  Ratio\n",
       "0   Japan      1                    Comedy   1.72\n",
       "1   Japan      5  DocumentaryKids & Family   8.62\n",
       "2   Japan     13                     Drama  22.41\n",
       "3   Japan     39        Action & Adventure  67.24"
      ]
     },
     "execution_count": 106,
     "metadata": {},
     "output_type": "execute_result"
    }
   ],
   "source": [
    "netflix_canada_groupedDF = netflix_groupedDF.loc[netflix_groupedDF[\"Country\"] == \"Canada\"]\n",
    "netflix_all_canada_groupedDF = netflix_canada_groupedDF.groupby([\"Country\", \"Count\"]).sum()\n",
    "netflix_all_canada_groupedDF = netflix_all_canada_groupedDF.drop(columns=[\"Service\"])\n",
    "netflix_all_canada_groupedDF = netflix_all_canada_groupedDF.reset_index()\n",
    "total_count = netflix_all_canada_groupedDF[\"Count\"].sum()\n",
    "netflix_all_canada_groupedDF[\"Ratio\"] = (netflix_all_canada_groupedDF[\"Count\"] / total_count) * 100\n",
    "netflix_all_canada_groupedDF[\"Ratio\"] = netflix_all_canada_groupedDF[\"Ratio\"].round(2)\n",
    "#\n",
    "\n",
    "netflix_france_groupedDF = netflix_groupedDF.loc[netflix_groupedDF[\"Country\"] == \"France\"]\n",
    "netflix_all_france_groupedDF = netflix_france_groupedDF.groupby([\"Country\", \"Count\"]).sum()\n",
    "netflix_all_france_groupedDF = netflix_all_france_groupedDF.drop(columns=[\"Service\"])\n",
    "netflix_all_france_groupedDF = netflix_all_france_groupedDF.reset_index()\n",
    "total_count = netflix_all_france_groupedDF[\"Count\"].sum()\n",
    "netflix_all_france_groupedDF[\"Ratio\"] = (netflix_all_france_groupedDF[\"Count\"] / total_count) * 100\n",
    "netflix_all_france_groupedDF[\"Ratio\"] = netflix_all_france_groupedDF[\"Ratio\"].round(2)\n",
    "#\n",
    "\n",
    "netflix_UK_groupedDF = netflix_groupedDF.loc[netflix_groupedDF[\"Country\"] == \"United Kingdom\"]\n",
    "netflix_all_UK_groupedDF = netflix_UK_groupedDF.groupby([\"Country\", \"Count\"]).sum()\n",
    "netflix_all_UK_groupedDF = netflix_all_UK_groupedDF.drop(columns=[\"Service\"])\n",
    "netflix_all_UK_groupedDF = netflix_all_UK_groupedDF.reset_index()\n",
    "total_count = netflix_all_UK_groupedDF[\"Count\"].sum()\n",
    "netflix_all_UK_groupedDF[\"Ratio\"] = (netflix_all_UK_groupedDF[\"Count\"] / total_count) * 100\n",
    "netflix_all_UK_groupedDF[\"Ratio\"] = netflix_all_UK_groupedDF[\"Ratio\"].round(2)\n",
    "#\n",
    "\n",
    "netflix_US_groupedDF = netflix_groupedDF.loc[netflix_groupedDF[\"Country\"] == \"United States\"]\n",
    "netflix_all_US_groupedDF = netflix_US_groupedDF.groupby([\"Country\", \"Count\"]).sum()\n",
    "netflix_all_US_groupedDF = netflix_all_US_groupedDF.drop(columns=[\"Service\"])\n",
    "netflix_all_US_groupedDF = netflix_all_US_groupedDF.reset_index()\n",
    "total_count = netflix_all_US_groupedDF[\"Count\"].sum()\n",
    "netflix_all_US_groupedDF[\"Ratio\"] = (netflix_all_US_groupedDF[\"Count\"] / total_count) * 100\n",
    "netflix_all_US_groupedDF[\"Ratio\"] = netflix_all_US_groupedDF[\"Ratio\"].round(2)\n",
    "#\n",
    "\n",
    "netflix_japan_groupedDF = netflix_groupedDF.loc[netflix_groupedDF[\"Country\"] == \"Japan\"]\n",
    "netflix_all_japan_groupedDF = netflix_japan_groupedDF.groupby([\"Country\", \"Count\"]).sum()\n",
    "netflix_all_japan_groupedDF = netflix_all_japan_groupedDF.drop(columns=[\"Service\"])\n",
    "netflix_all_japan_groupedDF = netflix_all_japan_groupedDF.reset_index()\n",
    "total_count = netflix_all_japan_groupedDF[\"Count\"].sum()\n",
    "netflix_all_japan_groupedDF[\"Ratio\"] = (netflix_all_japan_groupedDF[\"Count\"] / total_count) * 100\n",
    "netflix_all_japan_groupedDF[\"Ratio\"] = netflix_all_japan_groupedDF[\"Ratio\"].round(2)\n",
    "netflix_all_japan_groupedDF"
   ]
  },
  {
   "cell_type": "code",
   "execution_count": 109,
   "id": "ff5e5a01",
   "metadata": {},
   "outputs": [
    {
     "data": {
      "text/html": [
       "<div>\n",
       "<style scoped>\n",
       "    .dataframe tbody tr th:only-of-type {\n",
       "        vertical-align: middle;\n",
       "    }\n",
       "\n",
       "    .dataframe tbody tr th {\n",
       "        vertical-align: top;\n",
       "    }\n",
       "\n",
       "    .dataframe thead th {\n",
       "        text-align: right;\n",
       "    }\n",
       "</style>\n",
       "<table border=\"1\" class=\"dataframe\">\n",
       "  <thead>\n",
       "    <tr style=\"text-align: right;\">\n",
       "      <th></th>\n",
       "      <th>Country</th>\n",
       "      <th>Count</th>\n",
       "      <th>Genre</th>\n",
       "      <th>Ratio</th>\n",
       "    </tr>\n",
       "  </thead>\n",
       "  <tbody>\n",
       "    <tr>\n",
       "      <th>0</th>\n",
       "      <td>France</td>\n",
       "      <td>14</td>\n",
       "      <td>Kids &amp; Family</td>\n",
       "      <td>8.38</td>\n",
       "    </tr>\n",
       "  </tbody>\n",
       "</table>\n",
       "</div>"
      ],
      "text/plain": [
       "  Country  Count          Genre  Ratio\n",
       "0  France     14  Kids & Family   8.38"
      ]
     },
     "execution_count": 109,
     "metadata": {},
     "output_type": "execute_result"
    }
   ],
   "source": [
    "#Merge all the countries with Netflix back together\n",
    "netflix_remergedDF = pd.concat([netflix_all_france_groupedDF, netflix_all_canada_groupedDF, netflix_all_UK_groupedDF, \n",
    "                       netflix_all_US_groupedDF, netflix_all_japan_groupedDF], axis=0, ignore_index=True)\n",
    "\n",
    "netflix_remergedDF.head(1)"
   ]
  },
  {
   "cell_type": "code",
   "execution_count": 110,
   "id": "eb90d777",
   "metadata": {},
   "outputs": [
    {
     "data": {
      "image/png": "[encoded data removed]",
      "text/plain": [
       "<Figure size 640x480 with 1 Axes>"
      ]
     },
     "metadata": {},
     "output_type": "display_data"
    },
    {
     "data": {
      "text/plain": [
       "<Figure size 640x480 with 0 Axes>"
      ]
     },
     "metadata": {},
     "output_type": "display_data"
    }
   ],
   "source": [
    "#Stacked bar - Netflix\n",
    "netflix_remergedDF = netflix_remergedDF.groupby([\"Country\", \"Genre\"])[\"Ratio\"].sum()\n",
    "\n",
    "#Unstack to get genre as columns\n",
    "netflix_unstacked_df = netflix_remergedDF.unstack().fillna(0)\n",
    "\n",
    "colors = [\"lemonchiffon\", \"mediumvioletred\", \"lightsteelblue\", \"mediumpurple\", \"teal\", \"hotpink\", \"cornflowerblue\"]\n",
    "\n",
    "netflix_unstacked_df.plot(kind=\"barh\", stacked=True, color=colors)\n",
    "\n",
    "plt.title(\"Netflix Genres by Country\") \n",
    "plt.legend(bbox_to_anchor=(.9, 1.0), loc=\"upper left\")\n",
    "plt.tight_layout()\n",
    "\n",
    "plt.show()\n",
    "plt.savefig(\"Netflix Genres by Country.png\")  "
   ]
  },
  {
   "cell_type": "code",
   "execution_count": 111,
   "id": "3857ef65",
   "metadata": {},
   "outputs": [
    {
     "data": {
      "text/html": [
       "<div>\n",
       "<style scoped>\n",
       "    .dataframe tbody tr th:only-of-type {\n",
       "        vertical-align: middle;\n",
       "    }\n",
       "\n",
       "    .dataframe tbody tr th {\n",
       "        vertical-align: top;\n",
       "    }\n",
       "\n",
       "    .dataframe thead th {\n",
       "        text-align: right;\n",
       "    }\n",
       "</style>\n",
       "<table border=\"1\" class=\"dataframe\">\n",
       "  <thead>\n",
       "    <tr style=\"text-align: right;\">\n",
       "      <th></th>\n",
       "      <th>Country</th>\n",
       "      <th>Count</th>\n",
       "      <th>Genre</th>\n",
       "      <th>Ratio</th>\n",
       "    </tr>\n",
       "  </thead>\n",
       "  <tbody>\n",
       "    <tr>\n",
       "      <th>0</th>\n",
       "      <td>Japan</td>\n",
       "      <td>5</td>\n",
       "      <td>Action &amp; Adventure</td>\n",
       "      <td>100.0</td>\n",
       "    </tr>\n",
       "  </tbody>\n",
       "</table>\n",
       "</div>"
      ],
      "text/plain": [
       "  Country  Count               Genre  Ratio\n",
       "0   Japan      5  Action & Adventure  100.0"
      ]
     },
     "execution_count": 111,
     "metadata": {},
     "output_type": "execute_result"
    }
   ],
   "source": [
    "disney_canada_groupedDF = disney_groupedDF.loc[disney_groupedDF[\"Country\"] == \"Canada\"]\n",
    "disney_all_canada_groupedDF = disney_canada_groupedDF.groupby([\"Country\", \"Count\"]).sum()\n",
    "disney_all_canada_groupedDF = disney_all_canada_groupedDF.drop(columns=[\"Service\"])\n",
    "disney_all_canada_groupedDF = disney_all_canada_groupedDF.reset_index()\n",
    "total_count = disney_all_canada_groupedDF[\"Count\"].sum()\n",
    "disney_all_canada_groupedDF[\"Ratio\"] = (disney_all_canada_groupedDF[\"Count\"] / total_count) * 100\n",
    "disney_all_canada_groupedDF[\"Ratio\"] = disney_all_canada_groupedDF[\"Ratio\"].round(2)\n",
    "#\n",
    "\n",
    "disney_france_groupedDF = disney_groupedDF.loc[disney_groupedDF[\"Country\"] == \"France\"]\n",
    "disney_all_france_groupedDF = disney_france_groupedDF.groupby([\"Country\", \"Count\"]).sum()\n",
    "disney_all_france_groupedDF = disney_all_france_groupedDF.drop(columns=[\"Service\"])\n",
    "disney_all_france_groupedDF = disney_all_france_groupedDF.reset_index()\n",
    "total_count = disney_all_france_groupedDF[\"Count\"].sum()\n",
    "disney_all_france_groupedDF[\"Ratio\"] = (disney_all_france_groupedDF[\"Count\"] / total_count) * 100\n",
    "disney_all_france_groupedDF[\"Ratio\"] = disney_all_france_groupedDF[\"Ratio\"].round(2)\n",
    "#\n",
    "\n",
    "disney_UK_groupedDF = disney_groupedDF.loc[disney_groupedDF[\"Country\"] == \"United Kingdom\"]\n",
    "disney_all_UK_groupedDF = disney_UK_groupedDF.groupby([\"Country\", \"Count\"]).sum()\n",
    "disney_all_UK_groupedDF = disney_all_UK_groupedDF.drop(columns=[\"Service\"])\n",
    "disney_all_UK_groupedDF = disney_all_UK_groupedDF.reset_index()\n",
    "total_count = disney_all_UK_groupedDF[\"Count\"].sum()\n",
    "disney_all_UK_groupedDF[\"Ratio\"] = (disney_all_UK_groupedDF[\"Count\"] / total_count) * 100\n",
    "disney_all_UK_groupedDF[\"Ratio\"] = disney_all_UK_groupedDF[\"Ratio\"].round(2)\n",
    "#\n",
    "\n",
    "disney_US_groupedDF = disney_groupedDF.loc[disney_groupedDF[\"Country\"] == \"United States\"]\n",
    "disney_all_US_groupedDF = disney_US_groupedDF.groupby([\"Country\", \"Count\"]).sum()\n",
    "disney_all_US_groupedDF = disney_all_US_groupedDF.drop(columns=[\"Service\"])\n",
    "disney_all_US_groupedDF = disney_all_US_groupedDF.reset_index()\n",
    "total_count = disney_all_US_groupedDF[\"Count\"].sum()\n",
    "disney_all_US_groupedDF[\"Ratio\"] = (disney_all_US_groupedDF[\"Count\"] / total_count) * 100\n",
    "disney_all_US_groupedDF[\"Ratio\"] = disney_all_US_groupedDF[\"Ratio\"].round(2)\n",
    "#\n",
    "\n",
    "disney_japan_groupedDF = disney_groupedDF.loc[disney_groupedDF[\"Country\"] == \"Japan\"]\n",
    "disney_all_japan_groupedDF = disney_japan_groupedDF.groupby([\"Country\", \"Count\"]).sum()\n",
    "disney_all_japan_groupedDF = disney_all_japan_groupedDF.drop(columns=[\"Service\"])\n",
    "disney_all_japan_groupedDF = disney_all_japan_groupedDF.reset_index()\n",
    "total_count = disney_all_japan_groupedDF[\"Count\"].sum()\n",
    "disney_all_japan_groupedDF[\"Ratio\"] = (disney_all_japan_groupedDF[\"Count\"] / total_count) * 100\n",
    "disney_all_japan_groupedDF[\"Ratio\"] = disney_all_japan_groupedDF[\"Ratio\"].round(2)\n",
    "disney_all_japan_groupedDF"
   ]
  },
  {
   "cell_type": "code",
   "execution_count": 113,
   "id": "f9193b7f",
   "metadata": {},
   "outputs": [
    {
     "data": {
      "text/html": [
       "<div>\n",
       "<style scoped>\n",
       "    .dataframe tbody tr th:only-of-type {\n",
       "        vertical-align: middle;\n",
       "    }\n",
       "\n",
       "    .dataframe tbody tr th {\n",
       "        vertical-align: top;\n",
       "    }\n",
       "\n",
       "    .dataframe thead th {\n",
       "        text-align: right;\n",
       "    }\n",
       "</style>\n",
       "<table border=\"1\" class=\"dataframe\">\n",
       "  <thead>\n",
       "    <tr style=\"text-align: right;\">\n",
       "      <th></th>\n",
       "      <th>Country</th>\n",
       "      <th>Count</th>\n",
       "      <th>Genre</th>\n",
       "      <th>Ratio</th>\n",
       "    </tr>\n",
       "  </thead>\n",
       "  <tbody>\n",
       "    <tr>\n",
       "      <th>0</th>\n",
       "      <td>France</td>\n",
       "      <td>1</td>\n",
       "      <td>ComedyDocumentary</td>\n",
       "      <td>8.33</td>\n",
       "    </tr>\n",
       "  </tbody>\n",
       "</table>\n",
       "</div>"
      ],
      "text/plain": [
       "  Country  Count              Genre  Ratio\n",
       "0  France      1  ComedyDocumentary   8.33"
      ]
     },
     "execution_count": 113,
     "metadata": {},
     "output_type": "execute_result"
    }
   ],
   "source": [
    "#Merge all the countries with Disney back together\n",
    "disney_remergedDF = pd.concat([disney_all_france_groupedDF, disney_all_canada_groupedDF, disney_all_UK_groupedDF, \n",
    "                       disney_all_US_groupedDF, disney_all_japan_groupedDF], axis=0, ignore_index=True)\n",
    "\n",
    "disney_remergedDF.head(1)"
   ]
  },
  {
   "cell_type": "code",
   "execution_count": 114,
   "id": "dff1a4c6",
   "metadata": {},
   "outputs": [
    {
     "data": {
      "image/png": "[encoded data removed]",
      "text/plain": [
       "<Figure size 640x480 with 1 Axes>"
      ]
     },
     "metadata": {},
     "output_type": "display_data"
    },
    {
     "data": {
      "text/plain": [
       "<Figure size 640x480 with 0 Axes>"
      ]
     },
     "metadata": {},
     "output_type": "display_data"
    }
   ],
   "source": [
    "#Stacked bar - Disney\n",
    "disney_remergedDF = disney_remergedDF.groupby([\"Country\", \"Genre\"])[\"Ratio\"].sum()\n",
    "\n",
    "#Unstack to get genre as coludisney_remergedDFmns\n",
    "disney_unstacked_df = disney_remergedDF.unstack().fillna(0)\n",
    "\n",
    "colors = [\"lemonchiffon\", \"mediumvioletred\", \"lightsteelblue\", \"mediumpurple\", \"teal\", \"hotpink\", \"cornflowerblue\"]\n",
    "\n",
    "disney_unstacked_df.plot(kind=\"barh\", stacked=True, color=colors)\n",
    "\n",
    "plt.title(\"Disney Genres by Country\") \n",
    "plt.legend(bbox_to_anchor=(.9, 1.0), loc=\"upper left\")\n",
    "plt.tight_layout()\n",
    "\n",
    "plt.show()\n",
    "plt.savefig(\"Disney Genres by Country.png\")  "
   ]
  }
 ],
 "metadata": {
  "kernelspec": {
   "display_name": "Python 3 (ipykernel)",
   "language": "python",
   "name": "python3"
  },
  "language_info": {
   "codemirror_mode": {
    "name": "ipython",
    "version": 3
   },
   "file_extension": ".py",
   "mimetype": "text/x-python",
   "name": "python",
   "nbconvert_exporter": "python",
   "pygments_lexer": "ipython3",
   "version": "3.11.5"
  }
 },
 "nbformat": 4,
 "nbformat_minor": 5
}
